{
  "nbformat": 4,
  "nbformat_minor": 0,
  "metadata": {
    "colab": {
      "name": "Python_Functions.ipynb",
      "provenance": [],
      "collapsed_sections": [],
      "toc_visible": true
    },
    "kernelspec": {
      "name": "python3",
      "display_name": "Python 3"
    },
    "language_info": {
      "name": "python"
    }
  },
  "cells": [
    {
      "cell_type": "markdown",
      "metadata": {
        "id": "4z_zYmntq3H5"
      },
      "source": [
        "# **We are back on Colab!**"
      ]
    },
    {
      "cell_type": "markdown",
      "metadata": {
        "id": "QLJGTrJonxdq"
      },
      "source": [
        "### **Exercise 1**\n",
        "* **Instructions** Ask the user for a number. Depending on whether the number is even or odd, print out an appropriate message to the user.\n",
        "* **Hint** How does an even/odd number react differently when divided by 2?\n",
        "* **Bonus points** If the number is a multiple of 4, print out a different message."
      ]
    },
    {
      "cell_type": "code",
      "metadata": {
        "colab": {
          "base_uri": "https://localhost:8080/"
        },
        "id": "2Hlq5P4-sEg8",
        "outputId": "6bb04a92-0052-47c0-f7e9-6ad9c31c6c90"
      },
      "source": [
        "value = int(input( \" insert a number : \"))\n",
        "if value % 4 == 0:\n",
        "    print(\"multiple of 4\")\n",
        "elif value % 2 == 0:\n",
        "    print(\"even\")\n",
        "else:\n",
        "    print(\"odd\") "
      ],
      "execution_count": null,
      "outputs": [
        {
          "output_type": "stream",
          "name": "stdout",
          "text": [
            " insert a number : 18\n",
            "even\n"
          ]
        }
      ]
    },
    {
      "cell_type": "markdown",
      "metadata": {
        "id": "xgfIbCTenocM"
      },
      "source": [
        "### **Exercise 2**\n",
        "\n",
        "* **Instructions** You are building a cool new social network. You want to make sure users create safe passwords. To do that, write a piece of code asking users to define a password and checking the length of it. Use conditional statements to tell users if their password is safe or not.\n",
        "* **Hints**: Use Password_asked = input(\"Lorem ipsum\") to ask the user a number. Don’t forget indentation and “:” after if statements\n",
        "* **Bonus points**: Use a while loop instead of an if to ask over and over again the password to the user until it’s safe"
      ]
    },
    {
      "cell_type": "code",
      "metadata": {
        "colab": {
          "base_uri": "https://localhost:8080/"
        },
        "id": "cBZnv_Ihvpp7",
        "outputId": "fd74406e-6dcc-4c95-c319-b108e7306304"
      },
      "source": [
        "Password_asked = input(\"insert a password: \")\n",
        "if len(Password_asked) < 10:\n",
        "  print(\"password too short\")\n",
        "else:\n",
        "  print(\"password saved\")\n"
      ],
      "execution_count": null,
      "outputs": [
        {
          "output_type": "stream",
          "name": "stdout",
          "text": [
            "insert a password : fhsla3021139506\n",
            "password saved\n"
          ]
        }
      ]
    },
    {
      "cell_type": "code",
      "metadata": {
        "colab": {
          "base_uri": "https://localhost:8080/"
        },
        "id": "NNv7ZvLBw7vy",
        "outputId": "9b8e51b8-50f8-4164-e84b-e65cd8cae468"
      },
      "source": [
        "Password_asked = ''\n",
        "while len(Password_asked) < 10:\n",
        "  print(\"password too short\")\n",
        "  Password_asked = input(\"insert a password: \")\n",
        "else:\n",
        "  print(\"password saved\")"
      ],
      "execution_count": null,
      "outputs": [
        {
          "output_type": "stream",
          "name": "stdout",
          "text": [
            "password too short\n",
            "insert a password: 703421\n",
            "password too short\n",
            "insert a password: ciaodjei2\n",
            "password too short\n",
            "insert a password: overafa\n",
            "password too short\n",
            "insert a password: ciaoe0204\n",
            "password too short\n",
            "insert a password: cospgph,jaia\n",
            "password saved\n"
          ]
        }
      ]
    },
    {
      "cell_type": "markdown",
      "metadata": {
        "id": "cLYnhb2UtUqu"
      },
      "source": [
        "## **Writing functions**\n",
        "\n",
        "Functions are piece of code that accept a set of arguments as input and return a value. Functions can be executed 'on-demand'. \n",
        "Functions can be created using the following scheme:\n",
        "\n",
        "\n",
        "*   `def`, which is the abbreviation of 'define' and which is the prelude to any construction of function.\n",
        "*   `function name`, which is named exactly as a variable. Do not use an already instantiated variable name to name a function.\n",
        "* `list of parameters` separated by commas and enclosed by opening and closing parentheses.\n",
        "* `:`,  colon to close the line\n",
        "* `()`, parentheses are mandatory, even if your function does not wait for any parameter."
      ]
    },
    {
      "cell_type": "code",
      "metadata": {
        "id": "FdIoMn52zzQK"
      },
      "source": [
        "def my_function(parameter1, parameter2):\n",
        "    \"\"\"\n",
        "    This is how my function works\n",
        "    \"\"\" \n",
        "    a = parameter1 + parameter2\n",
        "    return a "
      ],
      "execution_count": null,
      "outputs": []
    },
    {
      "cell_type": "code",
      "metadata": {
        "colab": {
          "base_uri": "https://localhost:8080/"
        },
        "id": "8nC_235Ez-a5",
        "outputId": "25ec3917-1d01-41b7-d660-6cb1af60675b"
      },
      "source": [
        "my_function(2,5)"
      ],
      "execution_count": null,
      "outputs": [
        {
          "output_type": "execute_result",
          "data": {
            "text/plain": [
              "7"
            ]
          },
          "metadata": {},
          "execution_count": 22
        }
      ]
    },
    {
      "cell_type": "markdown",
      "metadata": {
        "id": "n3BnwfXn0KKD"
      },
      "source": [
        "Functions accept both regular arguments and keyword arguments. This means that you can specify which keywords are which and pass them in as follows"
      ]
    },
    {
      "cell_type": "code",
      "metadata": {
        "id": "n-KTDz7t0kcL"
      },
      "source": [
        "def keyword_function(a=1, b=2):\n",
        "  return a + b"
      ],
      "execution_count": null,
      "outputs": []
    },
    {
      "cell_type": "code",
      "metadata": {
        "colab": {
          "base_uri": "https://localhost:8080/"
        },
        "id": "G1n-pmMk0nkt",
        "outputId": "063c504d-59e2-4588-e6fd-43b297b872cd"
      },
      "source": [
        "keyword_function()"
      ],
      "execution_count": null,
      "outputs": [
        {
          "output_type": "execute_result",
          "data": {
            "text/plain": [
              "3"
            ]
          },
          "metadata": {},
          "execution_count": 27
        }
      ]
    },
    {
      "cell_type": "code",
      "metadata": {
        "colab": {
          "base_uri": "https://localhost:8080/"
        },
        "id": "hcbal6J50rlu",
        "outputId": "2a4e54a2-8bc8-434f-bd84-6b5e2d35a058"
      },
      "source": [
        "keyword_function(6,9)"
      ],
      "execution_count": null,
      "outputs": [
        {
          "output_type": "execute_result",
          "data": {
            "text/plain": [
              "15"
            ]
          },
          "metadata": {},
          "execution_count": 28
        }
      ]
    },
    {
      "cell_type": "markdown",
      "metadata": {
        "id": "U5gc9uUv01uf"
      },
      "source": [
        "You can mix regular arguments with keyword arguments"
      ]
    },
    {
      "cell_type": "code",
      "metadata": {
        "id": "TPoIV2RI0-9p"
      },
      "source": [
        "def mixed_function(a, b=2, c=3):\n",
        "  return a + b + c"
      ],
      "execution_count": null,
      "outputs": []
    },
    {
      "cell_type": "code",
      "metadata": {
        "colab": {
          "base_uri": "https://localhost:8080/"
        },
        "id": "Yke3Hgzd1C-O",
        "outputId": "ecbddf66-0ee1-4eee-d820-ba780405026c"
      },
      "source": [
        "mixed_function(5)"
      ],
      "execution_count": null,
      "outputs": [
        {
          "output_type": "execute_result",
          "data": {
            "text/plain": [
              "10"
            ]
          },
          "metadata": {},
          "execution_count": 30
        }
      ]
    },
    {
      "cell_type": "code",
      "metadata": {
        "colab": {
          "base_uri": "https://localhost:8080/"
        },
        "id": "3euzwLPM1HT3",
        "outputId": "b09ac601-2bb0-401d-cb87-2ca4088c1d52"
      },
      "source": [
        "mixed_function(a=1, b=8, c=12)"
      ],
      "execution_count": null,
      "outputs": [
        {
          "output_type": "execute_result",
          "data": {
            "text/plain": [
              "21"
            ]
          },
          "metadata": {},
          "execution_count": 31
        }
      ]
    },
    {
      "cell_type": "markdown",
      "metadata": {
        "id": "Uhy2LlZR1LP2"
      },
      "source": [
        "### **Exercise 3**\n",
        "From a list of numbers, create a new list that contains only numbers from the first list that are lower or equal to 5"
      ]
    },
    {
      "cell_type": "code",
      "metadata": {
        "colab": {
          "base_uri": "https://localhost:8080/"
        },
        "id": "PhBeRIcD1hH2",
        "outputId": "e500dcb9-1a99-4b8a-906d-673cf5f45c35"
      },
      "source": [
        "numbers = [20, 3, 6, 8, 1, 2, 70, 4, 5]\n",
        "new_list = []\n",
        "\n",
        "for number in numbers:\n",
        "  if number <= 5:\n",
        "    new_list.append(number)\n",
        "\n",
        "print(new_list)"
      ],
      "execution_count": null,
      "outputs": [
        {
          "output_type": "stream",
          "name": "stdout",
          "text": [
            "[3, 1, 2, 4, 5]\n"
          ]
        }
      ]
    },
    {
      "cell_type": "code",
      "metadata": {
        "id": "o5NEIWeQ2MSI"
      },
      "source": [
        "def new_list(list):\n",
        "  return [n for n in list if n <= 5]"
      ],
      "execution_count": null,
      "outputs": []
    },
    {
      "cell_type": "code",
      "metadata": {
        "colab": {
          "base_uri": "https://localhost:8080/"
        },
        "id": "r3EDXcie2jrT",
        "outputId": "4e5a0df1-7539-4e17-c36a-245610914d32"
      },
      "source": [
        "new_list(numbers)"
      ],
      "execution_count": null,
      "outputs": [
        {
          "output_type": "execute_result",
          "data": {
            "text/plain": [
              "[3, 1, 2, 4, 5]"
            ]
          },
          "metadata": {},
          "execution_count": 37
        }
      ]
    },
    {
      "cell_type": "markdown",
      "metadata": {
        "id": "RMoooPmw2tZy"
      },
      "source": [
        "### **Exercise 4**\n",
        "Define a function that computes the average of the elements of a list (all the elements of the list must be numbers)."
      ]
    },
    {
      "cell_type": "code",
      "metadata": {
        "id": "kfBQqiCI23bf"
      },
      "source": [
        "def compute_average(list):\n",
        "  total = sum(list)\n",
        "  numbers = len(list)\n",
        "  average = total/numbers\n",
        "  return average"
      ],
      "execution_count": null,
      "outputs": []
    },
    {
      "cell_type": "code",
      "metadata": {
        "colab": {
          "base_uri": "https://localhost:8080/"
        },
        "id": "OkGfvSGU3pYn",
        "outputId": "2ad1649c-f8d5-4492-c028-bd8713fae732"
      },
      "source": [
        "compute_average(numbers)"
      ],
      "execution_count": null,
      "outputs": [
        {
          "output_type": "execute_result",
          "data": {
            "text/plain": [
              "13.222222222222221"
            ]
          },
          "metadata": {},
          "execution_count": 40
        }
      ]
    },
    {
      "cell_type": "code",
      "metadata": {
        "id": "uQXrrHvO33Pi"
      },
      "source": [
        "def compute_average(numbers):\n",
        "  checked_numbers = [n for n in numbers if type(n) in [int, float]]\n",
        "  return sum(checked_numbers)/len(checked_numbers)"
      ],
      "execution_count": null,
      "outputs": []
    },
    {
      "cell_type": "code",
      "metadata": {
        "colab": {
          "base_uri": "https://localhost:8080/"
        },
        "id": "mpnSquL34beS",
        "outputId": "dda05a1b-6ae8-442b-8dc8-3e3fccdc14e3"
      },
      "source": [
        "compute_average(numbers)"
      ],
      "execution_count": null,
      "outputs": [
        {
          "output_type": "execute_result",
          "data": {
            "text/plain": [
              "13.222222222222221"
            ]
          },
          "metadata": {},
          "execution_count": 53
        }
      ]
    },
    {
      "cell_type": "code",
      "metadata": {
        "colab": {
          "base_uri": "https://localhost:8080/"
        },
        "id": "thQfVYuX4fvt",
        "outputId": "7d4de476-20d3-442f-c874-c76b54a19977"
      },
      "source": [
        "mixed_list = [10, 20, 52, 79, \"one\", \"three\", \"forty-two\"]\n",
        "compute_average(mixed_list)"
      ],
      "execution_count": null,
      "outputs": [
        {
          "output_type": "execute_result",
          "data": {
            "text/plain": [
              "40.25"
            ]
          },
          "metadata": {},
          "execution_count": 54
        }
      ]
    },
    {
      "cell_type": "markdown",
      "metadata": {
        "id": "1JfX9r_95UCK"
      },
      "source": [
        "### **Exercise 5**\n",
        "Define a function to calculate the median of the elements of a list (all the elements of the list must be numbers)."
      ]
    },
    {
      "cell_type": "code",
      "metadata": {
        "id": "jQVOO5xp5zvX"
      },
      "source": [
        "numbers = [20, 57, 93, 21, 66]"
      ],
      "execution_count": null,
      "outputs": []
    },
    {
      "cell_type": "code",
      "metadata": {
        "colab": {
          "base_uri": "https://localhost:8080/"
        },
        "id": "QF7mIq116HBt",
        "outputId": "41cb83fe-8f14-457c-f902-68f356138c9a"
      },
      "source": [
        "print(sorted(numbers))"
      ],
      "execution_count": null,
      "outputs": [
        {
          "output_type": "stream",
          "name": "stdout",
          "text": [
            "[20, 21, 57, 66, 93]\n"
          ]
        }
      ]
    },
    {
      "cell_type": "code",
      "metadata": {
        "id": "r4NOl04s6Mje"
      },
      "source": [
        "def median_number(list_numbers):\n",
        "    list_numbers = sorted(list_numbers)\n",
        "    median = list_numbers[len(list_numbers)//2]\n",
        "    return median"
      ],
      "execution_count": null,
      "outputs": []
    },
    {
      "cell_type": "code",
      "metadata": {
        "colab": {
          "base_uri": "https://localhost:8080/"
        },
        "id": "E00411f06iYr",
        "outputId": "7f0ee6f8-a45b-43c1-86de-19865582f70c"
      },
      "source": [
        "median_number(numbers)"
      ],
      "execution_count": null,
      "outputs": [
        {
          "output_type": "execute_result",
          "data": {
            "text/plain": [
              "57"
            ]
          },
          "metadata": {},
          "execution_count": 105
        }
      ]
    },
    {
      "cell_type": "code",
      "metadata": {
        "colab": {
          "base_uri": "https://localhost:8080/"
        },
        "id": "1H3DcFUZ69p1",
        "outputId": "4aa16d66-3cdb-49ec-8301-892a2fd5d144"
      },
      "source": [
        "median_number([8, 9, 55, 43, 3])"
      ],
      "execution_count": null,
      "outputs": [
        {
          "output_type": "execute_result",
          "data": {
            "text/plain": [
              "9"
            ]
          },
          "metadata": {},
          "execution_count": 107
        }
      ]
    },
    {
      "cell_type": "markdown",
      "metadata": {
        "id": "Ke6m98wG-pQc"
      },
      "source": [
        "### **Exercise 6**\n",
        "Define a function to display integers from 0 to 15 not included, three by three, using a for loop and the range statement."
      ]
    },
    {
      "cell_type": "code",
      "metadata": {
        "colab": {
          "base_uri": "https://localhost:8080/"
        },
        "id": "sAO4gPy3-zSo",
        "outputId": "fee6af2a-ddca-44ec-f2ce-4fc44c6be658"
      },
      "source": [
        "def slice_list():\n",
        "  for number in range(15)[0:3]:\n",
        "    print(number)\n",
        "  print(' ')\n",
        "  for number in range(15)[3:6]:\n",
        "    print(number)\n",
        "  print(' ')\n",
        "  for number in range(15)[6:9]:\n",
        "    print(number)\n",
        "  print(' ')\n",
        "  for number in range(15)[9:12]:\n",
        "    print(number)\n",
        "  print(' ')\n",
        "  for number in range(15)[12:15]:\n",
        "    print(number)\n",
        "  print(' ')\n",
        "\n",
        "slice_list()"
      ],
      "execution_count": null,
      "outputs": [
        {
          "output_type": "stream",
          "name": "stdout",
          "text": [
            "0\n",
            "1\n",
            "2\n",
            " \n",
            "3\n",
            "4\n",
            "5\n",
            " \n",
            "6\n",
            "7\n",
            "8\n",
            " \n",
            "9\n",
            "10\n",
            "11\n",
            " \n",
            "12\n",
            "13\n",
            "14\n",
            " \n"
          ]
        }
      ]
    },
    {
      "cell_type": "markdown",
      "metadata": {
        "id": "cnvrSlTBDzsR"
      },
      "source": [
        "### **Exercise 7**\n",
        "Define a function to count the number of vowels and the number of consonants in words"
      ]
    },
    {
      "cell_type": "code",
      "metadata": {
        "id": "5qBYEyLtEOTD"
      },
      "source": [
        "def count_vowels_consonants(word):\n",
        "  vowels = ['a','e','i','o','u','y']\n",
        "  consonants_counter = 0\n",
        "  vowels_counter = 0\n",
        "  for letter in word:\n",
        "    if letter in vowels:\n",
        "      vowels_counter+=1\n",
        "    else:\n",
        "      consonants_counter+=1\n",
        "  return vowels_counter, consonants_counter\n"
      ],
      "execution_count": null,
      "outputs": []
    },
    {
      "cell_type": "code",
      "metadata": {
        "colab": {
          "base_uri": "https://localhost:8080/"
        },
        "id": "jhkjHnRBFSxV",
        "outputId": "a2d4df37-d293-4e6a-b265-b7c3da1555cc"
      },
      "source": [
        "count_vowels_consonants('umbrella')"
      ],
      "execution_count": null,
      "outputs": [
        {
          "output_type": "execute_result",
          "data": {
            "text/plain": [
              "(3, 5)"
            ]
          },
          "metadata": {},
          "execution_count": 150
        }
      ]
    },
    {
      "cell_type": "code",
      "metadata": {
        "id": "wGTUsU7XFvap"
      },
      "source": [
        "def count_vowels_consonants(word): \n",
        "  vowels = ['a', 'e', 'i', 'o', 'u']\n",
        "  return len([letter for letter in word if letter in vowels]), len([letter for letter in word if letter not in actual_vowels])"
      ],
      "execution_count": null,
      "outputs": []
    },
    {
      "cell_type": "code",
      "metadata": {
        "colab": {
          "base_uri": "https://localhost:8080/"
        },
        "id": "N17jWcgjF75I",
        "outputId": "f1853db1-8861-4789-b05b-f828c0849e0f"
      },
      "source": [
        "word = 'transgenico'\n",
        "vowels = ['a', 'e', 'i', 'o', 'u']\n",
        "len([letter for letter in word if letter in vowels])"
      ],
      "execution_count": null,
      "outputs": [
        {
          "output_type": "execute_result",
          "data": {
            "text/plain": [
              "4"
            ]
          },
          "metadata": {},
          "execution_count": 155
        }
      ]
    },
    {
      "cell_type": "markdown",
      "metadata": {
        "id": "7-TbIKQbG7xB"
      },
      "source": [
        "### **Exercise 8**\n",
        "Define a function to print the Fibonacci series. \n",
        "* **Hint** The Fibonacci series is a series of numbers in which each number (Fibonacci number) is the sum of the two preceding numbers. The simplest is the series 1, 1, 2, 3, 5, 8, etc."
      ]
    },
    {
      "cell_type": "code",
      "metadata": {
        "colab": {
          "base_uri": "https://localhost:8080/"
        },
        "id": "dAGUfjSdHBlA",
        "outputId": "317b27cb-39c6-4f23-b37c-9a82bb27657b"
      },
      "source": [
        "user_number = int(input('insert a number '))\n",
        "def fibonacci(user_number):\n",
        "   counter = 0\n",
        "\n",
        "   first = 0\n",
        "   second = 1\n",
        "   temp = 0\n",
        " \n",
        "   while counter <= number_of_terms:\n",
        "      print(first)\n",
        "      temp = first + second\n",
        "      first = second\n",
        "      second = temp\n",
        "      counter = counter + 1\n",
        "\n",
        "fib(user_number)"
      ],
      "execution_count": null,
      "outputs": [
        {
          "output_type": "stream",
          "name": "stdout",
          "text": [
            "insert a number 10\n",
            "0\n",
            "1\n",
            "1\n",
            "2\n",
            "3\n",
            "5\n",
            "8\n",
            "13\n",
            "21\n",
            "34\n",
            "55\n"
          ]
        }
      ]
    },
    {
      "cell_type": "markdown",
      "metadata": {
        "id": "kLiQ1k3fJ9Oq"
      },
      "source": [
        "### **Exercise 9**"
      ]
    },
    {
      "cell_type": "markdown",
      "metadata": {
        "id": "jHt6qdMbKr4A"
      },
      "source": [
        "Define a function to ask the user to provide her name and age. Print the name, the number of years that separate the user age from the age of 100 and the year when she will turn 100."
      ]
    },
    {
      "cell_type": "code",
      "metadata": {
        "colab": {
          "base_uri": "https://localhost:8080/"
        },
        "id": "rjniFHjwJ_yY",
        "outputId": "4b6c2b97-8878-4c30-c62b-e6b161c2439f"
      },
      "source": [
        "def centenarian():\n",
        "  name = input(\"what is your name? \")\n",
        "  age = int(input(\"what is your age? \"))\n",
        "  print(name,\",you will turn 100 in\",100-age,\"years\",\"the year\",2021+100-age)\n",
        "\n",
        "centenarian()"
      ],
      "execution_count": null,
      "outputs": [
        {
          "output_type": "stream",
          "name": "stdout",
          "text": [
            "what is your name? Silvia\n",
            "what is your age? 29\n",
            "Silvia ,you will turn 100 in 71 years the year 2092\n"
          ]
        }
      ]
    },
    {
      "cell_type": "markdown",
      "metadata": {
        "id": "MHfWn6MMLkpT"
      },
      "source": [
        "### **Exercise 10**\n",
        "Define a function to ask a first user to pick one item among rock, paper and scissor. Ask a second user to select an item from this list too. Compare the preferencese. If the users selected the same item, the game result is tie. Otherwise, paper wins over rock, rock wins over scissor and scissor wins over paper. Print the result of the game at the end of the gameplay."
      ]
    },
    {
      "cell_type": "code",
      "metadata": {
        "colab": {
          "base_uri": "https://localhost:8080/"
        },
        "id": "ebYXypkXLozI",
        "outputId": "56cf510e-da47-4fef-cca2-befd84c75473"
      },
      "source": [
        "print(\"rock, paper, scissors, let's play\")\n",
        "play1 = str(input(\"rock, paper or scissor? \"))\n",
        "play2 = str(input(\"rock, paper or scissor? \"))\n",
        "if play1 == \"rock\" and play2 == \"rock\":\n",
        "  print(\"tie\")\n",
        "elif play1 == \"rock\" and play2 == \"paper\":\n",
        "  print(\"player 2 wins\")\n",
        "elif play1 == \"rock\" and play2 == \"scissor\":\n",
        "  print(\"player 1 wins\")\n",
        "elif play1 == \"paper\" and play2 == \"rock\":\n",
        "  print(\"player 1 wins\")\n",
        "elif play1 == \"paper\" and play2 == \"paper\":\n",
        "  print(\"tie\")\n",
        "elif play1 == \"paper\" and play2 == \"scissor\":\n",
        "  print(\"player 2 wins\")\n",
        "elif play1 == \"scissor\" and play2 == \"rock\":\n",
        "  print(\"player 2 wins\")\n",
        "elif play1 == \"scissor\" and play2 == \"paper\":\n",
        "  print(\"player 1 wins\")\n",
        "elif play1 == \"scissor\" and play2 == \"scissor\":\n",
        "  print(\"tie\")"
      ],
      "execution_count": null,
      "outputs": [
        {
          "output_type": "stream",
          "name": "stdout",
          "text": [
            "rock, paper, scissors, let's play\n",
            "rock, paper or scissor? paper\n",
            "rock, paper or scissor? rock\n",
            "player 1 wins\n"
          ]
        }
      ]
    },
    {
      "cell_type": "code",
      "metadata": {
        "id": "eGN71DMetPGl"
      },
      "source": [
        "bakeryPrices = {'pain au chocolat': 2.00, 'baguette': 1.50, 'ourson': 1.75}"
      ],
      "execution_count": null,
      "outputs": []
    },
    {
      "cell_type": "code",
      "metadata": {
        "id": "aKeymuRGtZ1r"
      },
      "source": [
        "def buyItem(item, numEuros):\n",
        "    if item not in bakeryPrices:\n",
        "        print(\"Sorry we don't have %s\" % (item))\n",
        "    else:\n",
        "        cost = bakeryPrices[item] * numEuros\n",
        "        print(\"That'll be %f please\" % (cost))\n",
        "\n",
        "# Main Function\n",
        "if __name__ == '__main__':\n",
        "    buyItem('pain au chocolat', 2.4)\n",
        "    buyItem('pain au raisin', 2)"
      ],
      "execution_count": null,
      "outputs": []
    },
    {
      "cell_type": "markdown",
      "metadata": {
        "id": "UCgvpjVWteA-"
      },
      "source": [
        "## **Object Basics**"
      ]
    },
    {
      "cell_type": "markdown",
      "metadata": {
        "id": "U8WsZgAHtmao"
      },
      "source": [
        "### **Classes**\n",
        "Classes are abstract objects that encapsulate the data (i.e., prevent it from being altered or used inappropriately) and make it easier to write general-purpose code. \n",
        "\n",
        "To remember: methods are associated with the objects of the class they belong to. Functions are not associated with any object. We can invoke a function just by its name. Functions operate on the data you pass to them as arguments."
      ]
    },
    {
      "cell_type": "code",
      "metadata": {
        "id": "cPBUugFztlUe"
      },
      "source": [
        "class FruitShop:\n",
        "\n",
        "    def __init__(self, name, fruitPrices):\n",
        "        \"\"\"\n",
        "            name: Name of the fruit shop\n",
        "\n",
        "            fruitPrices: Dictionary with keys as fruit\n",
        "            strings and prices for values e.g.\n",
        "            {'apples': 2.00, 'oranges': 1.50, 'pears': 1.75}\n",
        "        \"\"\"\n",
        "        self.fruitPrices = fruitPrices\n",
        "        self.name = name\n",
        "        print('Welcome to %s fruit shop' % (name))\n",
        "\n",
        "    def getCostPerPound(self, fruit):\n",
        "        \"\"\"\n",
        "            fruit: Fruit string\n",
        "        Returns cost of 'fruit', assuming 'fruit'\n",
        "        is in our inventory or None otherwise\n",
        "        \"\"\"\n",
        "        if fruit not in self.fruitPrices:\n",
        "            return None\n",
        "        return self.fruitPrices[fruit]\n",
        "\n",
        "    def getPriceOfOrder(self, orderList):\n",
        "        \"\"\"\n",
        "            orderList: List of (fruit, numPounds) tuples\n",
        "\n",
        "        Returns cost of orderList, only including the values of\n",
        "        fruits that this fruit shop has.\n",
        "        \"\"\"\n",
        "        totalCost = 0.0\n",
        "        for fruit, numPounds in orderList:\n",
        "            costPerPound = self.getCostPerPound(fruit)\n",
        "            if costPerPound != None:\n",
        "                totalCost += numPounds * costPerPound\n",
        "        return totalCost\n",
        "\n",
        "    def getName(self):\n",
        "        return self.name"
      ],
      "execution_count": null,
      "outputs": []
    },
    {
      "cell_type": "markdown",
      "metadata": {
        "id": "v6qYb5ALt0yV"
      },
      "source": [
        "### **Objects**\n",
        "if you are working on different python codes, you can import the class FruitShop by using `import` followed by the name of the file without the extension (e.g., import shop). This make your class accessible to other scripts, e.g., you can create other objects FruitShop as follows:\n",
        "\n",
        "\n",
        "```\n",
        "import shop\n",
        "\n",
        "shopName = 'the Berkeley Bowl'\n",
        "fruitPrices = {'apples': 1.00, 'oranges': 1.50, 'pears': 1.75}\n",
        "berkeleyShop = shop.FruitShop(shopName, fruitPrices)\n",
        "applePrice = berkeleyShop.getCostPerPound('apples')\n",
        "print(applePrice)\n",
        "print('Apples cost $%.2f at %s.' % (applePrice, shopName))\n",
        "\n",
        "otherName = 'the Stanford Mall'\n",
        "otherFruitPrices = {'kiwis': 6.00, 'apples': 4.50, 'peaches': 8.75}\n",
        "otherFruitShop = shop.FruitShop(otherName, otherFruitPrices)\n",
        "otherPrice = otherFruitShop.getCostPerPound('apples')\n",
        "print(otherPrice)\n",
        "print('Apples cost $%.2f at %s.' % (otherPrice, otherName))\n",
        "print(\"My, that's expensive!\")\n",
        "\n",
        "```\n",
        "\n"
      ]
    }
  ]
}