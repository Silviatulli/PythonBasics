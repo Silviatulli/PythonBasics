{
  "nbformat": 4,
  "nbformat_minor": 0,
  "metadata": {
    "colab": {
      "name": "Python_Masterclass.ipynb",
      "provenance": [],
      "collapsed_sections": [
        "751BSsuF7dqI",
        "joEQKgYBalby",
        "ecrKo3xAWxSK",
        "UyOZZPKnBcdt",
        "QFPAy47kEiFg"
      ]
    },
    "kernelspec": {
      "name": "python3",
      "display_name": "Python 3"
    },
    "language_info": {
      "name": "python"
    }
  },
  "cells": [
    {
      "cell_type": "markdown",
      "metadata": {
        "id": "NiY-F8B3l7l0"
      },
      "source": [
        "# **Welcome to your first shared notebook on Google Colab!**\n",
        "\n",
        "Please make a copy of this colab and start play with your own copy!\n",
        "\n",
        "Colab is a hosted **Jupyter notebook** service that requires **no setup**, while providing **free access** to computing resources including GPUs (i.e. resources for creating images). \n",
        "\n",
        "Jupyter notebook is an open-source web application that allows to create and share documents that contain **live code**, **equations**, **visualizations** and **narrative text**.\n",
        "\n",
        "A notebook is a list of cells. Cells contain either explanatory text or executable code and its output. There are two kinds of cells: \n",
        "* **Text cells** (Markdown)\n",
        "* **Code cells** (Equations, images and scripts)\n",
        "\n",
        "Colab supports over 40 programming languages including **Python**, R, Julia, Scala. \n",
        "Click in the cell to select it and execute the contents in the following ways:\n",
        "* Click the **Play icon** in the left gutter of the cell;\n",
        "* Type **Cmd/Ctrl+Enter** to run the cell in place;\n",
        "* Type **Shift+Enter** to run the cell and move focus to the next cell (adding one if none exists); or\n",
        "* Type **Alt+Enter** **option/return** to run the cell and insert a new code cell immediately below it.\n",
        "\n",
        "An overview of Colaboratory Features can be found here: https://colab.research.google.com/notebooks/basic_features_overview.ipynb#scrollTo=KR921S_OQSHG."
      ]
    },
    {
      "cell_type": "markdown",
      "metadata": {
        "id": "i-0VAY3pXQL9"
      },
      "source": [
        "#### **Quick Quiz** \n",
        "Create a code shell and type the command print(\"Hello world\"). Press shift + enter to run it."
      ]
    },
    {
      "cell_type": "code",
      "metadata": {
        "id": "JxcsTEXv-lFh"
      },
      "source": [
        ""
      ],
      "execution_count": null,
      "outputs": []
    },
    {
      "cell_type": "code",
      "metadata": {
        "colab": {
          "base_uri": "https://localhost:8080/"
        },
        "id": "v-CGDgOU-mQi",
        "outputId": "c7615a72-66be-4304-812f-34e76c3ffb67"
      },
      "source": [
        "print(\"Hello World\")"
      ],
      "execution_count": null,
      "outputs": [
        {
          "output_type": "stream",
          "name": "stdout",
          "text": [
            "Hello World\n"
          ]
        }
      ]
    },
    {
      "cell_type": "markdown",
      "metadata": {
        "id": "Y0xQN_uPXxtn"
      },
      "source": [
        "The execution of the code is sequential. Each line is executed one after the other."
      ]
    },
    {
      "cell_type": "markdown",
      "metadata": {
        "id": "jsVS095cUERu"
      },
      "source": [
        "Time to get your hands dirty!\n",
        "This notebook aims to summarize the contents of many online resources on Python Basics. This section will serve as a quick crash course both on the Python programming language and on the use of Python for scientific computing.\n",
        "\n",
        "\n",
        "# **Python Basics**\n",
        "\n",
        "**Table of Contents**\n",
        "* Basic Data Types\n",
        "  * Numbers (e.g. integer, float, complex)\n",
        "  * Strings (text)\n",
        "  * Booleans (bool)\n",
        "* Operators\n",
        "* Variables\n",
        "* Dir and Help\n",
        "* Built-in Data Structures\n",
        "  * Lists\n",
        "  * Tuples\n",
        "  * Sets\n",
        "  * Dictionaries\n",
        "* Writing Scripts\n",
        "  * Indentation\n",
        "  * Tabs vs Spaces\n",
        "  * Control Structures and Loops\n",
        "    * If Statement\n",
        "    * For Statement\n",
        "* Writing Functions\n",
        "* Object Basics\n",
        "  * Classes\n",
        "  * Objects\n",
        "  * Static vs Instance Variables\n",
        "* Tips and Tricks\n",
        "* Troubleshooting\n",
        "* More References"
      ]
    },
    {
      "cell_type": "markdown",
      "metadata": {
        "id": "3jaXY2vN3P5T"
      },
      "source": [
        "## **Basic Data Types**\n",
        "Every value in Python has a data type. There are several data types (i.e., objects), we will list below some important ones: numbers, strings and booleans.\n",
        "To verify the type of any object in Python, use the `type()` function:\n",
        "\n",
        "\n"
      ]
    },
    {
      "cell_type": "code",
      "metadata": {
        "colab": {
          "base_uri": "https://localhost:8080/"
        },
        "id": "ApXMX_sW5Jt9",
        "outputId": "060ee561-0fc0-4ba6-adbb-7f2189f59cb4"
      },
      "source": [
        "type(32)"
      ],
      "execution_count": null,
      "outputs": [
        {
          "output_type": "execute_result",
          "data": {
            "text/plain": [
              "int"
            ]
          },
          "metadata": {},
          "execution_count": 1
        }
      ]
    },
    {
      "cell_type": "code",
      "metadata": {
        "colab": {
          "base_uri": "https://localhost:8080/"
        },
        "id": "4m8NdabK5TjV",
        "outputId": "7331469e-8af8-40ff-d552-0837883e64c4"
      },
      "source": [
        "type(0.5)"
      ],
      "execution_count": null,
      "outputs": [
        {
          "output_type": "execute_result",
          "data": {
            "text/plain": [
              "float"
            ]
          },
          "metadata": {},
          "execution_count": 3
        }
      ]
    },
    {
      "cell_type": "code",
      "metadata": {
        "colab": {
          "base_uri": "https://localhost:8080/"
        },
        "id": "wKE7IJ775QY1",
        "outputId": "a54f80c9-cdfb-4eb9-e02b-3231b7a6c384"
      },
      "source": [
        "type('students')"
      ],
      "execution_count": null,
      "outputs": [
        {
          "output_type": "execute_result",
          "data": {
            "text/plain": [
              "str"
            ]
          },
          "metadata": {},
          "execution_count": 4
        }
      ]
    },
    {
      "cell_type": "code",
      "metadata": {
        "colab": {
          "base_uri": "https://localhost:8080/"
        },
        "id": "401rf6NT5bxv",
        "outputId": "600dc1a6-565f-4538-f7b9-cc073ab85180"
      },
      "source": [
        "type(True)"
      ],
      "execution_count": null,
      "outputs": [
        {
          "output_type": "execute_result",
          "data": {
            "text/plain": [
              "bool"
            ]
          },
          "metadata": {},
          "execution_count": 5
        }
      ]
    },
    {
      "cell_type": "markdown",
      "metadata": {
        "id": "WbI9Yv4S4fNM"
      },
      "source": [
        "### **Numbers**\n",
        "There are three numeric types in Python:\n",
        "* `int`: a number, positive or negative, without decimals, of unlimited length.\n",
        "* `float`: a number, positive or negative, containing one or more decimals\n",
        "* `complex`: a number including an unknown value identify by \"j\""
      ]
    },
    {
      "cell_type": "code",
      "metadata": {
        "colab": {
          "base_uri": "https://localhost:8080/"
        },
        "id": "9syjZCFA6BTN",
        "outputId": "cddaad6d-f38a-4550-deb8-f12a4d4171a1"
      },
      "source": [
        "type(3j)"
      ],
      "execution_count": null,
      "outputs": [
        {
          "output_type": "execute_result",
          "data": {
            "text/plain": [
              "complex"
            ]
          },
          "metadata": {},
          "execution_count": 6
        }
      ]
    },
    {
      "cell_type": "markdown",
      "metadata": {
        "id": "vrLXpl3mnIJe"
      },
      "source": [
        "### **Strings**\n",
        "Strings in Python are surrounded by either single quotation marks, or double quotation marks.\\\n",
        "You can display a string literal with the `print()` function."
      ]
    },
    {
      "cell_type": "code",
      "metadata": {
        "colab": {
          "base_uri": "https://localhost:8080/"
        },
        "id": "fWwMlnMEvsHF",
        "outputId": "bf3db453-e37d-4d8a-d409-2e102c040507"
      },
      "source": [
        "print('Data Science for Public Policy')"
      ],
      "execution_count": null,
      "outputs": [
        {
          "output_type": "stream",
          "name": "stdout",
          "text": [
            "Data Science for Public Policy\n"
          ]
        }
      ]
    },
    {
      "cell_type": "markdown",
      "metadata": {
        "id": "V25cN9exEvOb"
      },
      "source": [
        "To concatenate string you can use the [+] operator"
      ]
    },
    {
      "cell_type": "code",
      "metadata": {
        "colab": {
          "base_uri": "https://localhost:8080/",
          "height": 35
        },
        "id": "CqSd2kH8nKBZ",
        "outputId": "754a4b52-c75b-4593-db58-2182eef460ad"
      },
      "source": [
        "'data' + \" science\""
      ],
      "execution_count": null,
      "outputs": [
        {
          "output_type": "execute_result",
          "data": {
            "application/vnd.google.colaboratory.intrinsic+json": {
              "type": "string"
            },
            "text/plain": [
              "'data science'"
            ]
          },
          "metadata": {},
          "execution_count": 8
        }
      ]
    },
    {
      "cell_type": "markdown",
      "metadata": {
        "id": "wRGgUqUsE4qV"
      },
      "source": [
        "Python provides a set of built-in methods. Built-in methods are ready made functions that you can use without having to define them.\\\n",
        "A comprehensive overview of built-in methods for strings and other data types/structures can be find here: https://docs.python.org/3/library/stdtypes.html#string-methods"
      ]
    },
    {
      "cell_type": "code",
      "metadata": {
        "colab": {
          "base_uri": "https://localhost:8080/",
          "height": 35
        },
        "id": "EZHTSuOMnOFf",
        "outputId": "3b14e08e-bc63-4a4a-a56a-836da7fb8bf8"
      },
      "source": [
        "'data'.upper()"
      ],
      "execution_count": null,
      "outputs": [
        {
          "output_type": "execute_result",
          "data": {
            "application/vnd.google.colaboratory.intrinsic+json": {
              "type": "string"
            },
            "text/plain": [
              "'DATA'"
            ]
          },
          "metadata": {},
          "execution_count": 9
        }
      ]
    },
    {
      "cell_type": "code",
      "metadata": {
        "colab": {
          "base_uri": "https://localhost:8080/",
          "height": 35
        },
        "id": "TunhiX_AnQtm",
        "outputId": "f6a150b9-f940-4880-8d17-77e0024333fb"
      },
      "source": [
        "'HELP'.lower()"
      ],
      "execution_count": null,
      "outputs": [
        {
          "output_type": "execute_result",
          "data": {
            "application/vnd.google.colaboratory.intrinsic+json": {
              "type": "string"
            },
            "text/plain": [
              "'help'"
            ]
          },
          "metadata": {},
          "execution_count": 10
        }
      ]
    },
    {
      "cell_type": "code",
      "metadata": {
        "colab": {
          "base_uri": "https://localhost:8080/"
        },
        "id": "_n3tZtQ0naZ-",
        "outputId": "23f3ef5f-a3c2-4a89-da7b-9759d1c2e18a"
      },
      "source": [
        "len('Help')"
      ],
      "execution_count": null,
      "outputs": [
        {
          "output_type": "execute_result",
          "data": {
            "text/plain": [
              "4"
            ]
          },
          "metadata": {},
          "execution_count": 11
        }
      ]
    },
    {
      "cell_type": "markdown",
      "metadata": {
        "id": "751BSsuF7dqI"
      },
      "source": [
        "### **Booleans**\n",
        "Booleans are binary representation of truth states: True or False, 1 or 0. "
      ]
    },
    {
      "cell_type": "code",
      "metadata": {
        "colab": {
          "base_uri": "https://localhost:8080/"
        },
        "id": "6FF7tM3l7sK5",
        "outputId": "078c5c54-d232-42ea-bf5f-b78b9ac2025b"
      },
      "source": [
        "a = True  \n",
        "a = False  \n",
        "print(a)"
      ],
      "execution_count": null,
      "outputs": [
        {
          "output_type": "stream",
          "name": "stdout",
          "text": [
            "False\n"
          ]
        }
      ]
    },
    {
      "cell_type": "markdown",
      "metadata": {
        "id": "4vU_wxvM7-v6"
      },
      "source": [
        "The `bool()` function allows you to evaluate any value, and give you `True` or `False` in return. Almost any value is evaluated to `True` if it has some sort of content.\n",
        "* Any string is True, except empty strings.\n",
        "* Any number is True, except 0.\n",
        "* Any list, tuple, set, and dictionary are True, except empty ones.\n",
        "\n"
      ]
    },
    {
      "cell_type": "markdown",
      "metadata": {
        "id": "4kDyP-HAmpit"
      },
      "source": [
        "## **Operators**\n",
        "Operators are used to perform operations on variables and values.\\\n",
        "*Example* of standard operators are:\\\n",
        "I + j the sum\\\n",
        "I - j the difference\\\n",
        "I * j the product\\\n",
        "I / j division\\\n",
        "I // j int division (returns integers)\\\n",
        "I % j the remainder when i is divided by j\\\n",
        "I ** j i to the power of j\\\n",
        "\\\n",
        "`<object> <operator> <object>`"
      ]
    },
    {
      "cell_type": "markdown",
      "metadata": {
        "id": "QhnyiGNWEin3"
      },
      "source": [
        "Arithmetic expressions"
      ]
    },
    {
      "cell_type": "code",
      "metadata": {
        "colab": {
          "base_uri": "https://localhost:8080/"
        },
        "id": "nkeOwDHOlr2p",
        "outputId": "788e1ecb-4f06-475b-95ee-ed96f4563545"
      },
      "source": [
        "1 + 1"
      ],
      "execution_count": null,
      "outputs": [
        {
          "output_type": "execute_result",
          "data": {
            "text/plain": [
              "2"
            ]
          },
          "metadata": {},
          "execution_count": 13
        }
      ]
    },
    {
      "cell_type": "code",
      "metadata": {
        "colab": {
          "base_uri": "https://localhost:8080/"
        },
        "id": "slxEm9lSm17g",
        "outputId": "d7415c78-814a-4998-e03b-a6064ce46691"
      },
      "source": [
        "2 * 3"
      ],
      "execution_count": null,
      "outputs": [
        {
          "output_type": "execute_result",
          "data": {
            "text/plain": [
              "6"
            ]
          },
          "metadata": {},
          "execution_count": 14
        }
      ]
    },
    {
      "cell_type": "code",
      "metadata": {
        "colab": {
          "base_uri": "https://localhost:8080/"
        },
        "id": "qW8Lu1MFYkaQ",
        "outputId": "ae434257-3933-40d0-fa83-3c9ed95386dc"
      },
      "source": [
        "14679/56"
      ],
      "execution_count": null,
      "outputs": [
        {
          "output_type": "execute_result",
          "data": {
            "text/plain": [
              "262.125"
            ]
          },
          "metadata": {},
          "execution_count": 15
        }
      ]
    },
    {
      "cell_type": "markdown",
      "metadata": {
        "id": "4FrYY5n_EnkI"
      },
      "source": [
        "Boolean operators\n",
        "\n",
        "and\t- conjunction\\\n",
        "or\t- disjunction\\\n",
        "not\t- negation"
      ]
    },
    {
      "cell_type": "code",
      "metadata": {
        "colab": {
          "base_uri": "https://localhost:8080/"
        },
        "id": "50W-0rEFm60m",
        "outputId": "6f5aa4bd-80a4-4a27-a330-219f97482a35"
      },
      "source": [
        "1 == 0"
      ],
      "execution_count": null,
      "outputs": [
        {
          "output_type": "execute_result",
          "data": {
            "text/plain": [
              "False"
            ]
          },
          "metadata": {},
          "execution_count": 16
        }
      ]
    },
    {
      "cell_type": "code",
      "metadata": {
        "colab": {
          "base_uri": "https://localhost:8080/"
        },
        "id": "hnpktzBFm-cV",
        "outputId": "44870a95-da43-4609-9fef-0d6cbe9ac7b4"
      },
      "source": [
        "not (1 == 0)"
      ],
      "execution_count": null,
      "outputs": [
        {
          "output_type": "execute_result",
          "data": {
            "text/plain": [
              "True"
            ]
          },
          "metadata": {},
          "execution_count": 17
        }
      ]
    },
    {
      "cell_type": "code",
      "metadata": {
        "colab": {
          "base_uri": "https://localhost:8080/"
        },
        "id": "YarEg9iRnBQl",
        "outputId": "d646fd97-7d21-4c05-f31d-f1f7c45fb02f"
      },
      "source": [
        "(2 == 2) and (2 == 3)"
      ],
      "execution_count": null,
      "outputs": [
        {
          "output_type": "execute_result",
          "data": {
            "text/plain": [
              "False"
            ]
          },
          "metadata": {},
          "execution_count": 18
        }
      ]
    },
    {
      "cell_type": "code",
      "metadata": {
        "colab": {
          "base_uri": "https://localhost:8080/"
        },
        "id": "Ir8GVtg5nDU_",
        "outputId": "7d759454-1ffd-4e28-a62a-6cef3921a894"
      },
      "source": [
        "(2 == 2) or (2 == 3)"
      ],
      "execution_count": null,
      "outputs": [
        {
          "output_type": "execute_result",
          "data": {
            "text/plain": [
              "True"
            ]
          },
          "metadata": {},
          "execution_count": 19
        }
      ]
    },
    {
      "cell_type": "markdown",
      "metadata": {
        "id": "dbXZGXEvFDRw"
      },
      "source": [
        "## **Variables**\n",
        "Variables are containers. They allow you to store data values.\n"
      ]
    },
    {
      "cell_type": "markdown",
      "metadata": {
        "id": "hulGGWoUZRbp"
      },
      "source": [
        "To define a variable \"s\" use the [=]."
      ]
    },
    {
      "cell_type": "code",
      "metadata": {
        "id": "MLlIEfCOnVNG"
      },
      "source": [
        "s = 'hello world'"
      ],
      "execution_count": null,
      "outputs": []
    },
    {
      "cell_type": "code",
      "metadata": {
        "colab": {
          "base_uri": "https://localhost:8080/"
        },
        "id": "HWcE7TrNnhYG",
        "outputId": "817a0594-f369-43b9-a508-a750946944e2"
      },
      "source": [
        "print(s)"
      ],
      "execution_count": null,
      "outputs": [
        {
          "output_type": "stream",
          "name": "stdout",
          "text": [
            "hello world\n"
          ]
        }
      ]
    },
    {
      "cell_type": "markdown",
      "metadata": {
        "id": "tCXxIiVRaIQT"
      },
      "source": [
        "You can overwrite the value associated to a variable."
      ]
    },
    {
      "cell_type": "code",
      "metadata": {
        "id": "p2nVJjwsaEfy"
      },
      "source": [
        "s = 'hello once again'"
      ],
      "execution_count": null,
      "outputs": []
    },
    {
      "cell_type": "markdown",
      "metadata": {
        "id": "3xx-kdesZX89"
      },
      "source": [
        "You can use a built-in method (i.e., upper()) to change the variable s."
      ]
    },
    {
      "cell_type": "code",
      "metadata": {
        "colab": {
          "base_uri": "https://localhost:8080/",
          "height": 35
        },
        "id": "s29-cu-EnkT2",
        "outputId": "2650b2ac-43a2-4bd3-b872-318af4885e3b"
      },
      "source": [
        "s.upper()"
      ],
      "execution_count": null,
      "outputs": [
        {
          "output_type": "execute_result",
          "data": {
            "application/vnd.google.colaboratory.intrinsic+json": {
              "type": "string"
            },
            "text/plain": [
              "'HELLO ONCE AGAIN'"
            ]
          },
          "metadata": {},
          "execution_count": 23
        }
      ]
    },
    {
      "cell_type": "code",
      "metadata": {
        "colab": {
          "base_uri": "https://localhost:8080/"
        },
        "id": "KqbfSr46nmwW",
        "outputId": "3cd76feb-e1b0-4ab0-b1ba-9a431effb47e"
      },
      "source": [
        "len(s.upper())"
      ],
      "execution_count": null,
      "outputs": [
        {
          "output_type": "execute_result",
          "data": {
            "text/plain": [
              "16"
            ]
          },
          "metadata": {},
          "execution_count": 24
        }
      ]
    },
    {
      "cell_type": "code",
      "metadata": {
        "id": "9cuMBKzvnoZm"
      },
      "source": [
        "num = 8.0"
      ],
      "execution_count": null,
      "outputs": []
    },
    {
      "cell_type": "markdown",
      "metadata": {
        "id": "0XQwUVbuZw8D"
      },
      "source": [
        "You can define a value by using `+=`"
      ]
    },
    {
      "cell_type": "code",
      "metadata": {
        "id": "6bzpkYhDnp0O"
      },
      "source": [
        "num += 2.5"
      ],
      "execution_count": null,
      "outputs": []
    },
    {
      "cell_type": "code",
      "metadata": {
        "colab": {
          "base_uri": "https://localhost:8080/"
        },
        "id": "PuNzFwM0nrUe",
        "outputId": "8dbccf97-22e6-4503-dea3-e8751070b1f6"
      },
      "source": [
        "print(num)"
      ],
      "execution_count": null,
      "outputs": [
        {
          "output_type": "stream",
          "name": "stdout",
          "text": [
            "10.5\n"
          ]
        }
      ]
    },
    {
      "cell_type": "markdown",
      "metadata": {
        "id": "joEQKgYBalby"
      },
      "source": [
        "#### **Quick Quiz**\n",
        "What would have happened if we were using **=**?"
      ]
    },
    {
      "cell_type": "markdown",
      "metadata": {
        "id": "L1zyINTUn3Ua"
      },
      "source": [
        "## **Dir and Help**"
      ]
    },
    {
      "cell_type": "markdown",
      "metadata": {
        "id": "pw_6Jlx1FfbG"
      },
      "source": [
        "To see what methods Python provides for a datatype, use the **dir** and **help** commands"
      ]
    },
    {
      "cell_type": "code",
      "metadata": {
        "id": "sOIHLWx4n-ZC"
      },
      "source": [
        "s = 'abc'"
      ],
      "execution_count": null,
      "outputs": []
    },
    {
      "cell_type": "code",
      "metadata": {
        "colab": {
          "base_uri": "https://localhost:8080/"
        },
        "id": "ghSGSJMlFUt2",
        "outputId": "bed81725-f1e2-4c57-9d5b-0fbb5464e126"
      },
      "source": [
        "dir(s)"
      ],
      "execution_count": null,
      "outputs": [
        {
          "output_type": "execute_result",
          "data": {
            "text/plain": [
              "['__add__',\n",
              " '__class__',\n",
              " '__contains__',\n",
              " '__delattr__',\n",
              " '__dir__',\n",
              " '__doc__',\n",
              " '__eq__',\n",
              " '__format__',\n",
              " '__ge__',\n",
              " '__getattribute__',\n",
              " '__getitem__',\n",
              " '__getnewargs__',\n",
              " '__gt__',\n",
              " '__hash__',\n",
              " '__init__',\n",
              " '__init_subclass__',\n",
              " '__iter__',\n",
              " '__le__',\n",
              " '__len__',\n",
              " '__lt__',\n",
              " '__mod__',\n",
              " '__mul__',\n",
              " '__ne__',\n",
              " '__new__',\n",
              " '__reduce__',\n",
              " '__reduce_ex__',\n",
              " '__repr__',\n",
              " '__rmod__',\n",
              " '__rmul__',\n",
              " '__setattr__',\n",
              " '__sizeof__',\n",
              " '__str__',\n",
              " '__subclasshook__',\n",
              " 'capitalize',\n",
              " 'casefold',\n",
              " 'center',\n",
              " 'count',\n",
              " 'encode',\n",
              " 'endswith',\n",
              " 'expandtabs',\n",
              " 'find',\n",
              " 'format',\n",
              " 'format_map',\n",
              " 'index',\n",
              " 'isalnum',\n",
              " 'isalpha',\n",
              " 'isascii',\n",
              " 'isdecimal',\n",
              " 'isdigit',\n",
              " 'isidentifier',\n",
              " 'islower',\n",
              " 'isnumeric',\n",
              " 'isprintable',\n",
              " 'isspace',\n",
              " 'istitle',\n",
              " 'isupper',\n",
              " 'join',\n",
              " 'ljust',\n",
              " 'lower',\n",
              " 'lstrip',\n",
              " 'maketrans',\n",
              " 'partition',\n",
              " 'replace',\n",
              " 'rfind',\n",
              " 'rindex',\n",
              " 'rjust',\n",
              " 'rpartition',\n",
              " 'rsplit',\n",
              " 'rstrip',\n",
              " 'split',\n",
              " 'splitlines',\n",
              " 'startswith',\n",
              " 'strip',\n",
              " 'swapcase',\n",
              " 'title',\n",
              " 'translate',\n",
              " 'upper',\n",
              " 'zfill']"
            ]
          },
          "metadata": {},
          "execution_count": 29
        }
      ]
    },
    {
      "cell_type": "code",
      "metadata": {
        "colab": {
          "base_uri": "https://localhost:8080/"
        },
        "id": "itShHCw9FtKg",
        "outputId": "d1ab84b9-62f1-4847-9716-4403af8691c3"
      },
      "source": [
        "help(s.find)"
      ],
      "execution_count": null,
      "outputs": [
        {
          "output_type": "stream",
          "name": "stdout",
          "text": [
            "Help on built-in function find:\n",
            "\n",
            "find(...) method of builtins.str instance\n",
            "    S.find(sub[, start[, end]]) -> int\n",
            "    \n",
            "    Return the lowest index in S where substring sub is found,\n",
            "    such that sub is contained within S[start:end].  Optional\n",
            "    arguments start and end are interpreted as in slice notation.\n",
            "    \n",
            "    Return -1 on failure.\n",
            "\n"
          ]
        }
      ]
    },
    {
      "cell_type": "code",
      "metadata": {
        "colab": {
          "base_uri": "https://localhost:8080/"
        },
        "id": "OtiLC-sCF0y0",
        "outputId": "4e89dcd1-0666-4982-d46f-62e837a41800"
      },
      "source": [
        "s.find('b')"
      ],
      "execution_count": null,
      "outputs": [
        {
          "output_type": "execute_result",
          "data": {
            "text/plain": [
              "1"
            ]
          },
          "metadata": {},
          "execution_count": 31
        }
      ]
    },
    {
      "cell_type": "markdown",
      "metadata": {
        "id": "ecrKo3xAWxSK"
      },
      "source": [
        "#### **Quick Quiz**\n",
        "Define a variable of your choice (don't forget to use quotes if its text) and use type() command to discover its type. Check other methods you could use to modify the variable and apply one of them."
      ]
    },
    {
      "cell_type": "code",
      "metadata": {
        "id": "9ivwdX4pLX35"
      },
      "source": [
        ""
      ],
      "execution_count": null,
      "outputs": []
    },
    {
      "cell_type": "markdown",
      "metadata": {
        "id": "7Sws63NMF5xZ"
      },
      "source": [
        "## **Built-in Data Structures**"
      ]
    },
    {
      "cell_type": "markdown",
      "metadata": {
        "id": "3bzfv4pQF9_-"
      },
      "source": [
        "### Lists\n",
        "Lists store a sequence of mutable items. A mutable item is an object whose value can change once created."
      ]
    },
    {
      "cell_type": "code",
      "metadata": {
        "id": "M6VJfw1mGHCD"
      },
      "source": [
        "students = ['Jonas', 'Charlotte', 'Sina', 'Giulia']"
      ],
      "execution_count": null,
      "outputs": []
    },
    {
      "cell_type": "markdown",
      "metadata": {
        "id": "FmQI5VQU_Yuh"
      },
      "source": [
        "You can access the items in the list using their index. The index is the number that corresponds to the position of the item in the list.  \n",
        "**Be careful**, in Python, indexing starts at 0 (i.e., the first item has 0 as index).\n",
        "\n"
      ]
    },
    {
      "cell_type": "code",
      "metadata": {
        "colab": {
          "base_uri": "https://localhost:8080/",
          "height": 37
        },
        "id": "2Yl1R1QuGLHq",
        "outputId": "493059ee-abb8-416c-83e0-53f94cb0b358"
      },
      "source": [
        "students[0]"
      ],
      "execution_count": null,
      "outputs": [
        {
          "output_type": "execute_result",
          "data": {
            "application/vnd.google.colaboratory.intrinsic+json": {
              "type": "string"
            },
            "text/plain": [
              "'Jonas'"
            ]
          },
          "metadata": {},
          "execution_count": 2
        }
      ]
    },
    {
      "cell_type": "code",
      "metadata": {
        "id": "QphCwMWECOLj",
        "colab": {
          "base_uri": "https://localhost:8080/"
        },
        "outputId": "153f997c-51c7-4ced-8bf1-73eb7dc64ff9"
      },
      "source": [
        "students[2] = 'Silvia'\n",
        "students"
      ],
      "execution_count": null,
      "outputs": [
        {
          "output_type": "execute_result",
          "data": {
            "text/plain": [
              "['Jonas', 'Charlotte', 'Silvia', 'Giulia']"
            ]
          },
          "metadata": {},
          "execution_count": 3
        }
      ]
    },
    {
      "cell_type": "markdown",
      "metadata": {
        "id": "YmxCuemzAVd7"
      },
      "source": [
        "#### **Quick Quiz**\n",
        "Given the list `students = ['Jonas', 'Charlotte', 'Sina', 'Giulia']`\n",
        "What is the index to select Giulia?"
      ]
    },
    {
      "cell_type": "code",
      "metadata": {
        "colab": {
          "base_uri": "https://localhost:8080/",
          "height": 130
        },
        "id": "bU5MfwGdA77a",
        "outputId": "067f8eaf-f061-47f3-f687-d4386b53660f"
      },
      "source": [
        "students[?]"
      ],
      "execution_count": null,
      "outputs": [
        {
          "output_type": "error",
          "ename": "SyntaxError",
          "evalue": "ignored",
          "traceback": [
            "\u001b[0;36m  File \u001b[0;32m\"<ipython-input-35-8d496cf76e5c>\"\u001b[0;36m, line \u001b[0;32m1\u001b[0m\n\u001b[0;31m    students[?]\u001b[0m\n\u001b[0m             ^\u001b[0m\n\u001b[0;31mSyntaxError\u001b[0m\u001b[0;31m:\u001b[0m invalid syntax\n"
          ]
        }
      ]
    },
    {
      "cell_type": "markdown",
      "metadata": {
        "id": "6ddxFuo-GOt6"
      },
      "source": [
        "List concatenation with [+] operator"
      ]
    },
    {
      "cell_type": "code",
      "metadata": {
        "colab": {
          "base_uri": "https://localhost:8080/"
        },
        "id": "cOhIiNt6GTzf",
        "outputId": "76667cf2-cd6f-479c-96ed-26e957098ae1"
      },
      "source": [
        "otherStudents = ['Hanyu', 'Marie-Sophie']\n",
        "students + otherStudents"
      ],
      "execution_count": null,
      "outputs": [
        {
          "output_type": "execute_result",
          "data": {
            "text/plain": [
              "['Jonas', 'Charlotte', 'Silvia', 'Giulia', 'Hanyu', 'Marie-Sophie']"
            ]
          },
          "metadata": {},
          "execution_count": 37
        }
      ]
    },
    {
      "cell_type": "markdown",
      "metadata": {
        "id": "uvBIZLiVGij3"
      },
      "source": [
        "Negative-indexing from the back of the list"
      ]
    },
    {
      "cell_type": "code",
      "metadata": {
        "id": "n4WMzh7jGWPW",
        "colab": {
          "base_uri": "https://localhost:8080/",
          "height": 35
        },
        "outputId": "96edf93d-950e-4a77-da43-0843e2254c5b"
      },
      "source": [
        "students[-2]"
      ],
      "execution_count": null,
      "outputs": [
        {
          "output_type": "execute_result",
          "data": {
            "application/vnd.google.colaboratory.intrinsic+json": {
              "type": "string"
            },
            "text/plain": [
              "'Silvia'"
            ]
          },
          "metadata": {},
          "execution_count": 38
        }
      ]
    },
    {
      "cell_type": "code",
      "metadata": {
        "colab": {
          "base_uri": "https://localhost:8080/",
          "height": 35
        },
        "id": "tAR0VQdAGolH",
        "outputId": "0093f5cf-a069-4784-a393-9209b3b7d4bf"
      },
      "source": [
        "students.pop()"
      ],
      "execution_count": null,
      "outputs": [
        {
          "output_type": "execute_result",
          "data": {
            "application/vnd.google.colaboratory.intrinsic+json": {
              "type": "string"
            },
            "text/plain": [
              "'Giulia'"
            ]
          },
          "metadata": {},
          "execution_count": 39
        }
      ]
    },
    {
      "cell_type": "code",
      "metadata": {
        "id": "agm7UfXdGziT",
        "colab": {
          "base_uri": "https://localhost:8080/"
        },
        "outputId": "5f623e44-7960-4966-f966-41ab430b5082"
      },
      "source": [
        "students"
      ],
      "execution_count": null,
      "outputs": [
        {
          "output_type": "execute_result",
          "data": {
            "text/plain": [
              "['Jonas', 'Charlotte', 'Silvia']"
            ]
          },
          "metadata": {},
          "execution_count": 40
        }
      ]
    },
    {
      "cell_type": "code",
      "metadata": {
        "id": "sja3bavvG1QY"
      },
      "source": [
        "students.append('Eleonora')"
      ],
      "execution_count": null,
      "outputs": []
    },
    {
      "cell_type": "code",
      "metadata": {
        "id": "3casCFipG3o5",
        "colab": {
          "base_uri": "https://localhost:8080/"
        },
        "outputId": "63adec0e-2efa-4c67-f7e7-3b720cfe0fc2"
      },
      "source": [
        "students"
      ],
      "execution_count": null,
      "outputs": [
        {
          "output_type": "execute_result",
          "data": {
            "text/plain": [
              "['Jonas', 'Charlotte', 'Silvia', 'Eleonora']"
            ]
          },
          "metadata": {},
          "execution_count": 42
        }
      ]
    },
    {
      "cell_type": "code",
      "metadata": {
        "id": "X8HNsG9cG8ci"
      },
      "source": [
        "students[-1] = 'Matko'"
      ],
      "execution_count": null,
      "outputs": []
    },
    {
      "cell_type": "code",
      "metadata": {
        "id": "IZu-Kt-tG-9s",
        "colab": {
          "base_uri": "https://localhost:8080/"
        },
        "outputId": "9fd57707-f41a-487a-979d-cbaff018f943"
      },
      "source": [
        "students"
      ],
      "execution_count": null,
      "outputs": [
        {
          "output_type": "execute_result",
          "data": {
            "text/plain": [
              "['Jonas', 'Charlotte', 'Silvia', 'Matko']"
            ]
          },
          "metadata": {},
          "execution_count": 44
        }
      ]
    },
    {
      "cell_type": "markdown",
      "metadata": {
        "id": "fUFy9JYYHNa_"
      },
      "source": [
        " Index multiple adjacent elements using the **slice operator** (e.g., students[start:stop])"
      ]
    },
    {
      "cell_type": "code",
      "metadata": {
        "id": "6YhY9bnuHAyu",
        "colab": {
          "base_uri": "https://localhost:8080/"
        },
        "outputId": "46e60a76-f4d1-4b81-fc11-ab66881442b2"
      },
      "source": [
        "students[0:2]"
      ],
      "execution_count": null,
      "outputs": [
        {
          "output_type": "execute_result",
          "data": {
            "text/plain": [
              "['Jonas', 'Charlotte']"
            ]
          },
          "metadata": {},
          "execution_count": 45
        }
      ]
    },
    {
      "cell_type": "code",
      "metadata": {
        "id": "XrvYzAblHCkV",
        "colab": {
          "base_uri": "https://localhost:8080/",
          "height": 168
        },
        "outputId": "bee8148f-25d1-4207-c6ba-23da25f7261b"
      },
      "source": [
        "students[:3]"
      ],
      "execution_count": null,
      "outputs": [
        {
          "output_type": "error",
          "ename": "NameError",
          "evalue": "ignored",
          "traceback": [
            "\u001b[0;31m---------------------------------------------------------------------------\u001b[0m",
            "\u001b[0;31mNameError\u001b[0m                                 Traceback (most recent call last)",
            "\u001b[0;32m<ipython-input-2-b6af24bcc0bf>\u001b[0m in \u001b[0;36m<module>\u001b[0;34m()\u001b[0m\n\u001b[0;32m----> 1\u001b[0;31m \u001b[0mstudents\u001b[0m\u001b[0;34m[\u001b[0m\u001b[0;34m:\u001b[0m\u001b[0;36m3\u001b[0m\u001b[0;34m]\u001b[0m\u001b[0;34m\u001b[0m\u001b[0;34m\u001b[0m\u001b[0m\n\u001b[0m",
            "\u001b[0;31mNameError\u001b[0m: name 'students' is not defined"
          ]
        }
      ]
    },
    {
      "cell_type": "code",
      "metadata": {
        "id": "yv_MjnikHFO-",
        "colab": {
          "base_uri": "https://localhost:8080/"
        },
        "outputId": "9698c1fb-f17e-47d1-c438-0c5aaf40d309"
      },
      "source": [
        "#students[start:]\n",
        "students[2:]"
      ],
      "execution_count": null,
      "outputs": [
        {
          "output_type": "execute_result",
          "data": {
            "text/plain": [
              "['Silvia', 'Matko']"
            ]
          },
          "metadata": {},
          "execution_count": 47
        }
      ]
    },
    {
      "cell_type": "code",
      "metadata": {
        "id": "ehRiNkQvHG7m",
        "colab": {
          "base_uri": "https://localhost:8080/"
        },
        "outputId": "4984a967-1f7d-49ed-91cd-74c08324714f"
      },
      "source": [
        "len(students)"
      ],
      "execution_count": null,
      "outputs": [
        {
          "output_type": "execute_result",
          "data": {
            "text/plain": [
              "4"
            ]
          },
          "metadata": {},
          "execution_count": 48
        }
      ]
    },
    {
      "cell_type": "markdown",
      "metadata": {
        "id": "ZV3VYmWmVJHi"
      },
      "source": [
        "List can be any datatype"
      ]
    },
    {
      "cell_type": "code",
      "metadata": {
        "id": "QGfw_IMaHqJ5"
      },
      "source": [
        "lstOfLsts = [['carrots', 'apples', 'oranges'], [1, 2, 3], ['one', 'two', 'three']]"
      ],
      "execution_count": null,
      "outputs": []
    },
    {
      "cell_type": "markdown",
      "metadata": {
        "id": "c56Tpdm5Ve37"
      },
      "source": [
        "You can access an element embedded in a list by first selecting the index of the list and then the index of the element in the selected list. In this case we are selecting the third element of the second list."
      ]
    },
    {
      "cell_type": "code",
      "metadata": {
        "id": "BfyrDxz_HwLi",
        "colab": {
          "base_uri": "https://localhost:8080/"
        },
        "outputId": "ec769204-1e58-4208-a095-5f196c62d3d4"
      },
      "source": [
        "lstOfLsts[1][2]"
      ],
      "execution_count": null,
      "outputs": [
        {
          "output_type": "execute_result",
          "data": {
            "text/plain": [
              "3"
            ]
          },
          "metadata": {},
          "execution_count": 50
        }
      ]
    },
    {
      "cell_type": "code",
      "metadata": {
        "id": "NDs6TVe4HwYD",
        "colab": {
          "base_uri": "https://localhost:8080/",
          "height": 35
        },
        "outputId": "da2fe254-9364-4bb2-ac3a-e39cd3a206b2"
      },
      "source": [
        "lstOfLsts[0].pop()"
      ],
      "execution_count": null,
      "outputs": [
        {
          "output_type": "execute_result",
          "data": {
            "application/vnd.google.colaboratory.intrinsic+json": {
              "type": "string"
            },
            "text/plain": [
              "'oranges'"
            ]
          },
          "metadata": {},
          "execution_count": 51
        }
      ]
    },
    {
      "cell_type": "code",
      "metadata": {
        "id": "mhRYYuoFH0y-",
        "colab": {
          "base_uri": "https://localhost:8080/"
        },
        "outputId": "ebb105a5-f237-4c61-dadd-f390f843a8a4"
      },
      "source": [
        "lstOfLsts"
      ],
      "execution_count": null,
      "outputs": [
        {
          "output_type": "execute_result",
          "data": {
            "text/plain": [
              "[['carrots', 'apples'], [1, 2, 3], ['one', 'two', 'three']]"
            ]
          },
          "metadata": {},
          "execution_count": 52
        }
      ]
    },
    {
      "cell_type": "code",
      "metadata": {
        "id": "EKjJgYE8H0-P",
        "colab": {
          "base_uri": "https://localhost:8080/"
        },
        "outputId": "d3d4d03d-d327-4da4-d67c-201c71888c0c"
      },
      "source": [
        "dir(list)"
      ],
      "execution_count": null,
      "outputs": [
        {
          "output_type": "execute_result",
          "data": {
            "text/plain": [
              "['__add__',\n",
              " '__class__',\n",
              " '__contains__',\n",
              " '__delattr__',\n",
              " '__delitem__',\n",
              " '__dir__',\n",
              " '__doc__',\n",
              " '__eq__',\n",
              " '__format__',\n",
              " '__ge__',\n",
              " '__getattribute__',\n",
              " '__getitem__',\n",
              " '__gt__',\n",
              " '__hash__',\n",
              " '__iadd__',\n",
              " '__imul__',\n",
              " '__init__',\n",
              " '__init_subclass__',\n",
              " '__iter__',\n",
              " '__le__',\n",
              " '__len__',\n",
              " '__lt__',\n",
              " '__mul__',\n",
              " '__ne__',\n",
              " '__new__',\n",
              " '__reduce__',\n",
              " '__reduce_ex__',\n",
              " '__repr__',\n",
              " '__reversed__',\n",
              " '__rmul__',\n",
              " '__setattr__',\n",
              " '__setitem__',\n",
              " '__sizeof__',\n",
              " '__str__',\n",
              " '__subclasshook__',\n",
              " 'append',\n",
              " 'clear',\n",
              " 'copy',\n",
              " 'count',\n",
              " 'extend',\n",
              " 'index',\n",
              " 'insert',\n",
              " 'pop',\n",
              " 'remove',\n",
              " 'reverse',\n",
              " 'sort']"
            ]
          },
          "metadata": {},
          "execution_count": 53
        }
      ]
    },
    {
      "cell_type": "code",
      "metadata": {
        "id": "4Et0ic8QIE96",
        "colab": {
          "base_uri": "https://localhost:8080/"
        },
        "outputId": "bc603720-5267-4967-e275-a779385674f6"
      },
      "source": [
        "help(list.reverse)"
      ],
      "execution_count": null,
      "outputs": [
        {
          "output_type": "stream",
          "name": "stdout",
          "text": [
            "Help on method_descriptor:\n",
            "\n",
            "reverse(self, /)\n",
            "    Reverse *IN PLACE*.\n",
            "\n"
          ]
        }
      ]
    },
    {
      "cell_type": "code",
      "metadata": {
        "id": "RvrLoqrfIHMV"
      },
      "source": [
        "lst = ['a', 'b', 'c']"
      ],
      "execution_count": null,
      "outputs": []
    },
    {
      "cell_type": "code",
      "metadata": {
        "id": "VWX6DlQ2IJAZ"
      },
      "source": [
        "lst.reverse()"
      ],
      "execution_count": null,
      "outputs": []
    },
    {
      "cell_type": "markdown",
      "metadata": {
        "id": "1RtZEvbSLMPC"
      },
      "source": [
        "To check if an element is part of a list you can use the `in` keyword.\\\n",
        "Python has a set of keywords that are reserved words that cannot be used as variable names, function names, or any other identifiers:"
      ]
    },
    {
      "cell_type": "code",
      "metadata": {
        "colab": {
          "base_uri": "https://localhost:8080/"
        },
        "id": "EGGwyWjiLJYM",
        "outputId": "45d84dde-90ae-4411-f756-e30fde66c4c5"
      },
      "source": [
        "a in lst"
      ],
      "execution_count": null,
      "outputs": [
        {
          "output_type": "execute_result",
          "data": {
            "text/plain": [
              "False"
            ]
          },
          "metadata": {},
          "execution_count": 57
        }
      ]
    },
    {
      "cell_type": "code",
      "metadata": {
        "colab": {
          "base_uri": "https://localhost:8080/"
        },
        "id": "EbLQ8nnxK8eu",
        "outputId": "4612e5c2-e1d9-447d-a1b2-552d04167a25"
      },
      "source": [
        "'a' in lst"
      ],
      "execution_count": null,
      "outputs": [
        {
          "output_type": "execute_result",
          "data": {
            "text/plain": [
              "True"
            ]
          },
          "metadata": {},
          "execution_count": 58
        }
      ]
    },
    {
      "cell_type": "code",
      "metadata": {
        "id": "0M37C8RiKvM6"
      },
      "source": [
        "my_super_string = 'all I want is pizza'"
      ],
      "execution_count": null,
      "outputs": []
    },
    {
      "cell_type": "code",
      "metadata": {
        "colab": {
          "base_uri": "https://localhost:8080/"
        },
        "id": "43QLhT53KwhC",
        "outputId": "a3f0491f-c353-4152-97ae-a6bdb0b00307"
      },
      "source": [
        "print('pizza' in my_super_string)"
      ],
      "execution_count": null,
      "outputs": [
        {
          "output_type": "stream",
          "name": "stdout",
          "text": [
            "True\n"
          ]
        }
      ]
    },
    {
      "cell_type": "markdown",
      "metadata": {
        "id": "UyOZZPKnBcdt"
      },
      "source": [
        "#### **Quick Quiz**\n",
        "\n",
        "What is the output of the print() function call?\n",
        "```\n",
        "s = 'foo'\n",
        "t = 'bar'\n",
        "print('barf' in 2 * (s + t))\n",
        "```\n",
        "\n"
      ]
    },
    {
      "cell_type": "markdown",
      "metadata": {
        "id": "YSsZg-cMF1ys"
      },
      "source": [
        "Specifying **strides** while slicing strings. "
      ]
    },
    {
      "cell_type": "code",
      "metadata": {
        "id": "y9dArrokF_8M"
      },
      "source": [
        "my_passion = 'I like bikes, I like every kind of bike'"
      ],
      "execution_count": null,
      "outputs": []
    },
    {
      "cell_type": "code",
      "metadata": {
        "id": "US7r4yYoGb3c"
      },
      "source": [
        "print(my_string[13:])"
      ],
      "execution_count": null,
      "outputs": []
    },
    {
      "cell_type": "code",
      "metadata": {
        "id": "6ro4sGocGloN"
      },
      "source": [
        "print(my_passion[0:25:3])"
      ],
      "execution_count": null,
      "outputs": []
    },
    {
      "cell_type": "markdown",
      "metadata": {
        "id": "-2008UQ6IB4u"
      },
      "source": [
        "Specifying the stride of 3 as the last parameter in the Python syntax my_passion[0:25:3] prints only every three character."
      ]
    },
    {
      "cell_type": "markdown",
      "metadata": {
        "id": "QFPAy47kEiFg"
      },
      "source": [
        "#### **Quick Quiz**\n",
        "**Each character in a string has an index**.\\\n",
        "For the string Arnaud Rocks! the index breakdown is as follows:\n",
        "```\n",
        "Arnaud Rocks !\n",
        "0123456789101112\n",
        "```\n",
        "What is the slice expression that gives every third character of string `Arnaud Rocks!`, starting with the last character and proceeding backward to the first?"
      ]
    },
    {
      "cell_type": "markdown",
      "metadata": {
        "id": "NcGIUOukILKf"
      },
      "source": [
        "### **Tuples**\n",
        "Tuples are like a lists except that they are immutable once they are created (i.e. you cannot change its content once created)"
      ]
    },
    {
      "cell_type": "code",
      "metadata": {
        "id": "dVb2R3eXINUk"
      },
      "source": [
        "pair = (3, 5)"
      ],
      "execution_count": null,
      "outputs": []
    },
    {
      "cell_type": "code",
      "metadata": {
        "id": "EjNyVc_iIigM",
        "colab": {
          "base_uri": "https://localhost:8080/"
        },
        "outputId": "ff53faec-2f1f-4cd5-a1e7-dc5a8886be4c"
      },
      "source": [
        "pair[0]"
      ],
      "execution_count": null,
      "outputs": [
        {
          "output_type": "execute_result",
          "data": {
            "text/plain": [
              "3"
            ]
          },
          "metadata": {},
          "execution_count": 62
        }
      ]
    },
    {
      "cell_type": "code",
      "metadata": {
        "id": "gEDZ1sKAIqLy"
      },
      "source": [
        " x, y = pair"
      ],
      "execution_count": null,
      "outputs": []
    },
    {
      "cell_type": "code",
      "metadata": {
        "id": "FuIXeJodIqtN",
        "colab": {
          "base_uri": "https://localhost:8080/"
        },
        "outputId": "93603c52-7d76-4dc7-dac2-7492dd94f1ea"
      },
      "source": [
        "x"
      ],
      "execution_count": null,
      "outputs": [
        {
          "output_type": "execute_result",
          "data": {
            "text/plain": [
              "3"
            ]
          },
          "metadata": {},
          "execution_count": 64
        }
      ]
    },
    {
      "cell_type": "code",
      "metadata": {
        "id": "BCtmYVIQIq1r",
        "colab": {
          "base_uri": "https://localhost:8080/"
        },
        "outputId": "d6e36def-f88a-4ddb-ebf8-14be87958c59"
      },
      "source": [
        "y"
      ],
      "execution_count": null,
      "outputs": [
        {
          "output_type": "execute_result",
          "data": {
            "text/plain": [
              "5"
            ]
          },
          "metadata": {},
          "execution_count": 65
        }
      ]
    },
    {
      "cell_type": "code",
      "metadata": {
        "id": "t1vycaGfItOH",
        "colab": {
          "base_uri": "https://localhost:8080/",
          "height": 164
        },
        "outputId": "dc07b92c-06db-4210-e7c6-64fceed41ca7"
      },
      "source": [
        "pair[1] = 6"
      ],
      "execution_count": null,
      "outputs": [
        {
          "output_type": "error",
          "ename": "TypeError",
          "evalue": "ignored",
          "traceback": [
            "\u001b[0;31m---------------------------------------------------------------------------\u001b[0m",
            "\u001b[0;31mTypeError\u001b[0m                                 Traceback (most recent call last)",
            "\u001b[0;32m<ipython-input-66-392fbb166e50>\u001b[0m in \u001b[0;36m<module>\u001b[0;34m()\u001b[0m\n\u001b[0;32m----> 1\u001b[0;31m \u001b[0mpair\u001b[0m\u001b[0;34m[\u001b[0m\u001b[0;36m1\u001b[0m\u001b[0;34m]\u001b[0m \u001b[0;34m=\u001b[0m \u001b[0;36m6\u001b[0m\u001b[0;34m\u001b[0m\u001b[0;34m\u001b[0m\u001b[0m\n\u001b[0m",
            "\u001b[0;31mTypeError\u001b[0m: 'tuple' object does not support item assignment"
          ]
        }
      ]
    },
    {
      "cell_type": "markdown",
      "metadata": {
        "id": "_c_LW04pI1TU"
      },
      "source": [
        "The attempt to modify an immutable structure raised an exception. Exceptions indicate errors: index out of bounds errors, type errors, and so on will all report exceptions in this way."
      ]
    },
    {
      "cell_type": "markdown",
      "metadata": {
        "id": "NbNjP-JcI5Vw"
      },
      "source": [
        "### **Sets**\n",
        "Sets are unordered lists with no duplicate items.\n",
        "An advantage of sets vs lists and tuples is that they remove duplicate values."
      ]
    },
    {
      "cell_type": "code",
      "metadata": {
        "id": "r2Zsn4k9JKiT"
      },
      "source": [
        " shapes = ['circle', 'square', 'triangle', 'circle']"
      ],
      "execution_count": null,
      "outputs": []
    },
    {
      "cell_type": "code",
      "metadata": {
        "id": "tH0n6v6OJMD4"
      },
      "source": [
        "setOfShapes = set(shapes)"
      ],
      "execution_count": null,
      "outputs": []
    },
    {
      "cell_type": "code",
      "metadata": {
        "colab": {
          "base_uri": "https://localhost:8080/"
        },
        "id": "HPypZbVqJOKd",
        "outputId": "c490b73d-c481-4b21-efa5-a11a8584291f"
      },
      "source": [
        "setOfShapes"
      ],
      "execution_count": null,
      "outputs": [
        {
          "output_type": "execute_result",
          "data": {
            "text/plain": [
              "{'circle', 'square', 'triangle'}"
            ]
          },
          "metadata": {},
          "execution_count": 69
        }
      ]
    },
    {
      "cell_type": "code",
      "metadata": {
        "id": "mnJd80srJYjL"
      },
      "source": [
        "setOfShapes.add('polygon')"
      ],
      "execution_count": null,
      "outputs": []
    },
    {
      "cell_type": "code",
      "metadata": {
        "id": "LOCnAYGkJafx"
      },
      "source": [
        "setOfShapes"
      ],
      "execution_count": null,
      "outputs": []
    },
    {
      "cell_type": "code",
      "metadata": {
        "colab": {
          "base_uri": "https://localhost:8080/"
        },
        "id": "IbOatRocJdud",
        "outputId": "31d921ac-55dc-479e-feba-b33d3ec45bad"
      },
      "source": [
        "'circle' in setOfShapes\n",
        "#checking if there is a specific element in the set"
      ],
      "execution_count": null,
      "outputs": [
        {
          "output_type": "execute_result",
          "data": {
            "text/plain": [
              "True"
            ]
          },
          "metadata": {},
          "execution_count": 72
        }
      ]
    },
    {
      "cell_type": "markdown",
      "metadata": {
        "id": "5ZVK1sN_JoWz"
      },
      "source": [
        "### **Dictionaries**\n",
        "Dictionaries store a map from one type of object (the key) to another (the value). The key must be an immutable type (string, number, or tuple). The value can be any Python data type. For instance, a dictionary can contain an address book and you access each contact by specifying its name."
      ]
    },
    {
      "cell_type": "code",
      "metadata": {
        "id": "Dl9Nv_O5Kerx",
        "colab": {
          "base_uri": "https://localhost:8080/"
        },
        "outputId": "0ea626b3-b199-4dbd-fac3-195b9e6b36c5"
      },
      "source": [
        "my_dic = {}\n",
        "my_dic[\"first_name\"] = \"Arnaud\"\n",
        "my_dic[\"surname\"] = \"Weiss\"\n",
        "my_dic[\"work\"] = \"President\"\n",
        "my_dic\n"
      ],
      "execution_count": null,
      "outputs": [
        {
          "output_type": "execute_result",
          "data": {
            "text/plain": [
              "{'first_name': 'Arnaud', 'surname': 'Weiss', 'work': 'President'}"
            ]
          },
          "metadata": {},
          "execution_count": 1
        }
      ]
    },
    {
      "cell_type": "markdown",
      "metadata": {
        "id": "HB5OlVhbTtsY"
      },
      "source": [
        "You can access a value using its key"
      ]
    },
    {
      "cell_type": "code",
      "metadata": {
        "id": "jfYYV_tPKgTi",
        "colab": {
          "base_uri": "https://localhost:8080/",
          "height": 35
        },
        "outputId": "763d93a0-007f-452b-841d-b3805421ee07"
      },
      "source": [
        "my_dic['first_name']"
      ],
      "execution_count": null,
      "outputs": [
        {
          "output_type": "execute_result",
          "data": {
            "application/vnd.google.colaboratory.intrinsic+json": {
              "type": "string"
            },
            "text/plain": [
              "'Arnaud'"
            ]
          },
          "metadata": {},
          "execution_count": 2
        }
      ]
    },
    {
      "cell_type": "markdown",
      "metadata": {
        "id": "yrjw4dyDTzP0"
      },
      "source": [
        "It is possible to re-assign a value associated with a key"
      ]
    },
    {
      "cell_type": "code",
      "metadata": {
        "id": "-p1AEHCOKiIL",
        "colab": {
          "base_uri": "https://localhost:8080/"
        },
        "outputId": "81dda8b1-1e40-4813-9da4-3ab8686e6cac"
      },
      "source": [
        "my_dic['work'] = 'Professor'\n",
        "my_dic"
      ],
      "execution_count": null,
      "outputs": [
        {
          "output_type": "execute_result",
          "data": {
            "text/plain": [
              "{'first_name': 'Arnaud', 'surname': 'Weiss', 'work': 'Professor'}"
            ]
          },
          "metadata": {},
          "execution_count": 3
        }
      ]
    },
    {
      "cell_type": "markdown",
      "metadata": {
        "id": "JhVbSuwvT8tK"
      },
      "source": [
        "You can use `del` to delete an element of the dictionary (key and value)"
      ]
    },
    {
      "cell_type": "code",
      "metadata": {
        "id": "Alf1GrfxKm6l",
        "colab": {
          "base_uri": "https://localhost:8080/"
        },
        "outputId": "c15dc99d-3a1d-42e5-8dbc-8b5eca336c76"
      },
      "source": [
        "del my_dic['first_name']\n",
        "my_dic"
      ],
      "execution_count": null,
      "outputs": [
        {
          "output_type": "execute_result",
          "data": {
            "text/plain": [
              "{'surname': 'Weiss', 'work': 'Professor'}"
            ]
          },
          "metadata": {},
          "execution_count": 4
        }
      ]
    },
    {
      "cell_type": "markdown",
      "metadata": {
        "id": "JVCNgrLFUOii"
      },
      "source": [
        "It is also possible to assign a list of value to a key"
      ]
    },
    {
      "cell_type": "code",
      "metadata": {
        "id": "Ta57SUh6KqiD",
        "colab": {
          "base_uri": "https://localhost:8080/"
        },
        "outputId": "2020b1b1-d966-4b95-8a51-8e5b29e336ab"
      },
      "source": [
        "my_dic['work'] = ['Professor', 'President']\n",
        "my_dic"
      ],
      "execution_count": null,
      "outputs": [
        {
          "output_type": "execute_result",
          "data": {
            "text/plain": [
              "{'surname': 'Weiss', 'work': ['Professor', 'President']}"
            ]
          },
          "metadata": {},
          "execution_count": 5
        }
      ]
    },
    {
      "cell_type": "markdown",
      "metadata": {
        "id": "d1kerNQSUbbM"
      },
      "source": [
        "Access the list of keys"
      ]
    },
    {
      "cell_type": "code",
      "metadata": {
        "id": "MkuWAiOrKt1P",
        "colab": {
          "base_uri": "https://localhost:8080/"
        },
        "outputId": "976ad869-d9af-46d7-a921-7b4dc6e00523"
      },
      "source": [
        "my_dic.keys()"
      ],
      "execution_count": null,
      "outputs": [
        {
          "output_type": "execute_result",
          "data": {
            "text/plain": [
              "dict_keys(['surname', 'work'])"
            ]
          },
          "metadata": {},
          "execution_count": 6
        }
      ]
    },
    {
      "cell_type": "markdown",
      "metadata": {
        "id": "GYo__37UUenj"
      },
      "source": [
        "Access the list of values"
      ]
    },
    {
      "cell_type": "code",
      "metadata": {
        "id": "dpXiEfuiKv8z",
        "colab": {
          "base_uri": "https://localhost:8080/"
        },
        "outputId": "dec6a901-5b23-496f-c62a-07b7335d49c5"
      },
      "source": [
        "my_dic.values()"
      ],
      "execution_count": null,
      "outputs": [
        {
          "output_type": "execute_result",
          "data": {
            "text/plain": [
              "dict_values(['Weiss', ['Professor', 'President']])"
            ]
          },
          "metadata": {},
          "execution_count": 7
        }
      ]
    },
    {
      "cell_type": "markdown",
      "metadata": {
        "id": "F0SK3U1HUnwR"
      },
      "source": [
        "Access a view object that displays a list of a given dictionary's (key, value) tuple pair"
      ]
    },
    {
      "cell_type": "code",
      "metadata": {
        "id": "mDrDcHZFKxzn",
        "colab": {
          "base_uri": "https://localhost:8080/"
        },
        "outputId": "c4551f6b-706a-4d75-a551-f80230072612"
      },
      "source": [
        "my_dic.items()"
      ],
      "execution_count": null,
      "outputs": [
        {
          "output_type": "execute_result",
          "data": {
            "text/plain": [
              "dict_items([('surname', 'Weiss'), ('work', ['Professor', 'President'])])"
            ]
          },
          "metadata": {},
          "execution_count": 8
        }
      ]
    },
    {
      "cell_type": "markdown",
      "metadata": {
        "id": "y6Dg17L7U48a"
      },
      "source": [
        "Check the length of the dictionary"
      ]
    },
    {
      "cell_type": "code",
      "metadata": {
        "id": "gtW2JayuKzdX",
        "colab": {
          "base_uri": "https://localhost:8080/"
        },
        "outputId": "e3d3f4d5-9572-481e-e889-05cd94d99d9d"
      },
      "source": [
        "len(my_dic)"
      ],
      "execution_count": null,
      "outputs": [
        {
          "output_type": "execute_result",
          "data": {
            "text/plain": [
              "2"
            ]
          },
          "metadata": {},
          "execution_count": 9
        }
      ]
    },
    {
      "cell_type": "code",
      "metadata": {
        "id": "UktLPluxPxc7",
        "colab": {
          "base_uri": "https://localhost:8080/",
          "height": 164
        },
        "outputId": "9932ed2e-7eba-4499-b191-eddfb3f18c1a"
      },
      "source": [
        "my_dic['arnaud']"
      ],
      "execution_count": null,
      "outputs": [
        {
          "output_type": "error",
          "ename": "KeyError",
          "evalue": "ignored",
          "traceback": [
            "\u001b[0;31m---------------------------------------------------------------------------\u001b[0m",
            "\u001b[0;31mKeyError\u001b[0m                                  Traceback (most recent call last)",
            "\u001b[0;32m<ipython-input-10-77fcea0edc99>\u001b[0m in \u001b[0;36m<module>\u001b[0;34m()\u001b[0m\n\u001b[0;32m----> 1\u001b[0;31m \u001b[0mmy_dic\u001b[0m\u001b[0;34m[\u001b[0m\u001b[0;34m'arnaud'\u001b[0m\u001b[0;34m]\u001b[0m\u001b[0;34m\u001b[0m\u001b[0;34m\u001b[0m\u001b[0m\n\u001b[0m",
            "\u001b[0;31mKeyError\u001b[0m: 'arnaud'"
          ]
        }
      ]
    },
    {
      "cell_type": "markdown",
      "metadata": {
        "id": "_NlJZBHzR6so"
      },
      "source": [
        "If the key does not exist in the dictionary, a KeyError exception will be thrown.\n",
        "Dictionaries can contain other objects. These objects are placed and accessed through keys. A dictionary can not naturally contain two identical keys. On the other hand, nothing prevents to have two identical values in the dictionary.\n",
        "Be careful, however, a dictionary does not have an ordered structure. If we delete a key, the dictionary, unlike lists, will not shift all index keys above the deleted index."
      ]
    },
    {
      "cell_type": "markdown",
      "metadata": {
        "id": "mZ3tvfgrLEsE"
      },
      "source": [
        "## **Writing Scripts**"
      ]
    },
    {
      "cell_type": "markdown",
      "metadata": {
        "id": "wulvEEjKLhP8"
      },
      "source": [
        "###**Control Structures** and **Loops**"
      ]
    },
    {
      "cell_type": "code",
      "metadata": {
        "id": "h2TS5JqSLHpd",
        "colab": {
          "base_uri": "https://localhost:8080/"
        },
        "outputId": "5c1c6451-f419-4f26-8e01-33b95f84f9f4"
      },
      "source": [
        "# This is what a comment looks like\n",
        "students = ['Jonas', 'Charlotte', 'Sina', 'Giulia']\n",
        "# for statement\n",
        "for student in students:\n",
        "    print(student + ' has a passion!'+ '\\n' )\n",
        "\n",
        "studentsPassions = {'Jonas': 'playing guitar', 'Charlotte': 'climbing', 'Sina': 'biking', 'Giulia': 'surfing'}\n",
        "for student, passion in studentsPassions.items():\n",
        "    # if statement\n",
        "    if passion == 'biking':\n",
        "        print('I like ' + passion + ' more')\n",
        "    else:\n",
        "        print(passion + ' is cool!')"
      ],
      "execution_count": null,
      "outputs": [
        {
          "output_type": "stream",
          "name": "stdout",
          "text": [
            "Jonas has a passion!\n",
            "\n",
            "Charlotte has a passion!\n",
            "\n",
            "Sina has a passion!\n",
            "\n",
            "Giulia has a passion!\n",
            "\n",
            "playing guitar is cool!\n",
            "climbing is cool!\n",
            "I like biking more\n",
            "surfing is cool!\n"
          ]
        }
      ]
    },
    {
      "cell_type": "markdown",
      "metadata": {
        "id": "v-xUU94QMXF-"
      },
      "source": [
        "#### If Statement \n",
        "find more on: https://docs.python.org/3.6/tutorial/controlflow.html#if-statements"
      ]
    },
    {
      "cell_type": "code",
      "metadata": {
        "id": "v9B2vlHwL7vH",
        "colab": {
          "base_uri": "https://localhost:8080/"
        },
        "outputId": "e7da214d-35c7-47e2-cc6c-682ffd46f69d"
      },
      "source": [
        "x = int(input(\"Please enter an integer: \"))"
      ],
      "execution_count": null,
      "outputs": [
        {
          "name": "stdout",
          "output_type": "stream",
          "text": [
            "Please enter an integer: 8\n"
          ]
        }
      ]
    },
    {
      "cell_type": "code",
      "metadata": {
        "id": "enQa7xwoMBEa",
        "colab": {
          "base_uri": "https://localhost:8080/"
        },
        "outputId": "11c63945-c0c0-4d0f-9060-020b00fa1f31"
      },
      "source": [
        "if x < 0:\n",
        "  x = 0\n",
        "  print('Negative changed to zero')\n",
        "elif x == 0:\n",
        "  print('Zero')\n",
        "elif x == 1:\n",
        "  print('Single')\n",
        "else:\n",
        "  print('More')"
      ],
      "execution_count": null,
      "outputs": [
        {
          "output_type": "stream",
          "name": "stdout",
          "text": [
            "More\n"
          ]
        }
      ]
    },
    {
      "cell_type": "code",
      "metadata": {
        "id": "AGZu8366TVa0",
        "colab": {
          "base_uri": "https://localhost:8080/"
        },
        "outputId": "28a813f7-59bb-4e7e-f0f4-8a0f2e834a2c"
      },
      "source": [
        "var1 = 6\n",
        "var2 = 3\n",
        "\n",
        "if var1 > var2:\n",
        "  print(\"This is also True\")\n",
        "else:\n",
        "  print(\"That was False!\")"
      ],
      "execution_count": null,
      "outputs": [
        {
          "output_type": "stream",
          "name": "stdout",
          "text": [
            "This is also True\n"
          ]
        }
      ]
    },
    {
      "cell_type": "code",
      "metadata": {
        "id": "rZaD0N4nTY09",
        "colab": {
          "base_uri": "https://localhost:8080/"
        },
        "outputId": "77d2c575-3649-41cb-dcae-131572fd18f4"
      },
      "source": [
        "value = input('Type a number ')"
      ],
      "execution_count": null,
      "outputs": [
        {
          "name": "stdout",
          "output_type": "stream",
          "text": [
            "Type a number 8\n"
          ]
        }
      ]
    },
    {
      "cell_type": "code",
      "metadata": {
        "id": "737kQ9IUTcyN",
        "colab": {
          "base_uri": "https://localhost:8080/"
        },
        "outputId": "5582182b-6e90-48c5-c2c5-7b0682a4b683"
      },
      "source": [
        "print(value)\n",
        "print(type(value))"
      ],
      "execution_count": null,
      "outputs": [
        {
          "output_type": "stream",
          "name": "stdout",
          "text": [
            "8\n",
            "<class 'str'>\n"
          ]
        }
      ]
    },
    {
      "cell_type": "code",
      "metadata": {
        "id": "NjSzyoMNTiyU",
        "colab": {
          "base_uri": "https://localhost:8080/"
        },
        "outputId": "e25e97f4-19ab-442c-ef42-fceb7c946460"
      },
      "source": [
        "value = input(\"Type a number \")\n",
        "value = int(value)\n",
        "\n",
        "if value < 10:\n",
        "  print(\"The value is smaller than 10!\")\n",
        "elif 10 <= value <= 20:\n",
        "  print(\"The value is larger than 10 but smaller than 20.\")\n",
        "else:\n",
        "    print(\"The value is larger than 20.\")"
      ],
      "execution_count": null,
      "outputs": [
        {
          "output_type": "stream",
          "name": "stdout",
          "text": [
            "Type a number 8\n",
            "The value is smaller than 10!\n"
          ]
        }
      ]
    },
    {
      "cell_type": "markdown",
      "metadata": {
        "id": "TV6JKeBBMbGW"
      },
      "source": [
        "#### **For Statement**"
      ]
    },
    {
      "cell_type": "code",
      "metadata": {
        "id": "HxHdNmBgMCsW"
      },
      "source": [
        "words = ['cat', 'window', 'defenestrate']"
      ],
      "execution_count": null,
      "outputs": []
    },
    {
      "cell_type": "code",
      "metadata": {
        "id": "jQ1xQnuGMewa",
        "colab": {
          "base_uri": "https://localhost:8080/"
        },
        "outputId": "58758d68-4302-495f-e8ba-852a2c4b436e"
      },
      "source": [
        "for w in words:\n",
        "  print(w, len(w))"
      ],
      "execution_count": null,
      "outputs": [
        {
          "output_type": "stream",
          "name": "stdout",
          "text": [
            "cat 3\n",
            "window 6\n",
            "defenestrate 12\n"
          ]
        }
      ]
    },
    {
      "cell_type": "code",
      "metadata": {
        "id": "ce6_c2VAOGqB"
      },
      "source": [
        "new_words = ['cat', 'elephant', 'room', 'window', 'bakery', 'defenestrate']"
      ],
      "execution_count": null,
      "outputs": []
    },
    {
      "cell_type": "code",
      "metadata": {
        "id": "UszgQUOAMlFW"
      },
      "source": [
        "for w in new_words[2:3]:  # Loop over a slice copy of the entire list.\n",
        "  if len(w) > 4 :\n",
        "    words.insert(0, w)"
      ],
      "execution_count": null,
      "outputs": []
    },
    {
      "cell_type": "code",
      "metadata": {
        "id": "SlNPQWk4MrOh",
        "colab": {
          "base_uri": "https://localhost:8080/"
        },
        "outputId": "f9f64018-b2b7-497d-c35e-886fc43b38be"
      },
      "source": [
        "words"
      ],
      "execution_count": null,
      "outputs": [
        {
          "output_type": "execute_result",
          "data": {
            "text/plain": [
              "['defenestrate',\n",
              " 'bakery',\n",
              " 'window',\n",
              " 'elephant',\n",
              " 'defenestrate',\n",
              " 'bakery',\n",
              " 'window',\n",
              " 'defenestrate',\n",
              " 'bakery',\n",
              " 'window',\n",
              " 'elephant',\n",
              " 'defenestrate',\n",
              " 'window',\n",
              " 'cat',\n",
              " 'window',\n",
              " 'defenestrate',\n",
              " 'window',\n",
              " 'cat',\n",
              " 'window',\n",
              " 'defenestrate']"
            ]
          },
          "metadata": {},
          "execution_count": 21
        }
      ]
    },
    {
      "cell_type": "code",
      "metadata": {
        "colab": {
          "base_uri": "https://localhost:8080/"
        },
        "id": "8L_cEK-zPHos",
        "outputId": "252c6169-4023-4c9c-8506-8fc65d61d4f0"
      },
      "source": [
        "for w in new_words[1:3]:  # Loop over a slice copy of the entire list.\n",
        "  print(w)\n"
      ],
      "execution_count": null,
      "outputs": [
        {
          "output_type": "stream",
          "name": "stdout",
          "text": [
            "elephant\n",
            "room\n"
          ]
        }
      ]
    },
    {
      "cell_type": "code",
      "metadata": {
        "id": "I00qrLMoS4re",
        "colab": {
          "base_uri": "https://localhost:8080/"
        },
        "outputId": "a4a6576a-3268-4b25-e1ce-a499c13c7035"
      },
      "source": [
        "for k in range(10, 15):\n",
        "    print(k)"
      ],
      "execution_count": null,
      "outputs": [
        {
          "output_type": "stream",
          "name": "stdout",
          "text": [
            "10\n",
            "11\n",
            "12\n",
            "13\n",
            "14\n"
          ]
        }
      ]
    },
    {
      "cell_type": "markdown",
      "metadata": {
        "id": "yDKjflQYM1j4"
      },
      "source": [
        "Map and filter"
      ]
    },
    {
      "cell_type": "code",
      "metadata": {
        "id": "iqeVQDP5NCwg",
        "colab": {
          "base_uri": "https://localhost:8080/"
        },
        "outputId": "628255d8-1260-4500-e3b2-f1fd9298ecd5"
      },
      "source": [
        "list(map(lambda x: x * x, [1, 2, 3]))"
      ],
      "execution_count": null,
      "outputs": [
        {
          "output_type": "execute_result",
          "data": {
            "text/plain": [
              "[1, 4, 9]"
            ]
          },
          "metadata": {},
          "execution_count": 24
        }
      ]
    },
    {
      "cell_type": "code",
      "metadata": {
        "id": "6E8qDFJANEho",
        "colab": {
          "base_uri": "https://localhost:8080/"
        },
        "outputId": "56d8bfc3-eaba-434e-b344-f7e7f9722e56"
      },
      "source": [
        "list(filter(lambda x: x > 3, [1, 2, 3, 4, 5, 4, 3, 2, 1]))"
      ],
      "execution_count": null,
      "outputs": [
        {
          "output_type": "execute_result",
          "data": {
            "text/plain": [
              "[4, 5, 4]"
            ]
          },
          "metadata": {},
          "execution_count": 25
        }
      ]
    },
    {
      "cell_type": "markdown",
      "metadata": {
        "id": "00CWhW4PNL_w"
      },
      "source": [
        " List comprehension construction"
      ]
    },
    {
      "cell_type": "code",
      "metadata": {
        "id": "WxIOStbQNNUr",
        "colab": {
          "base_uri": "https://localhost:8080/"
        },
        "outputId": "0740c035-8f43-4974-be5a-7ce70206d76a"
      },
      "source": [
        "nums = [1, 2, 3, 4, 5, 6]\n",
        "plusOneNums = [x + 1 for x in nums]\n",
        "oddNums = [x for x in nums if x % 2 == 1]\n",
        "print(oddNums)\n",
        "oddNumsPlusOne = [x + 1 for x in nums if x % 2 == 1]\n",
        "print(oddNumsPlusOne)"
      ],
      "execution_count": null,
      "outputs": [
        {
          "output_type": "stream",
          "name": "stdout",
          "text": [
            "[1, 3, 5]\n",
            "[2, 4, 6]\n"
          ]
        }
      ]
    }
  ]
}