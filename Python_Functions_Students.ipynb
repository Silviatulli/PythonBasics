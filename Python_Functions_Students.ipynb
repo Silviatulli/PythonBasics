{
  "nbformat": 4,
  "nbformat_minor": 0,
  "metadata": {
    "colab": {
      "name": "Python_Functions_Students.ipynb",
      "provenance": [],
      "collapsed_sections": []
    },
    "kernelspec": {
      "name": "python3",
      "display_name": "Python 3"
    },
    "language_info": {
      "name": "python"
    }
  },
  "cells": [
    {
      "cell_type": "markdown",
      "metadata": {
        "id": "4z_zYmntq3H5"
      },
      "source": [
        "# **We are back on Colab!**"
      ]
    },
    {
      "cell_type": "code",
      "metadata": {
        "id": "ekyzKWDdOk0y"
      },
      "source": [
        ""
      ],
      "execution_count": null,
      "outputs": []
    },
    {
      "cell_type": "markdown",
      "metadata": {
        "id": "QLJGTrJonxdq"
      },
      "source": [
        "### **Exercise 1**\n",
        "* **Instructions** Ask the user for a number. Depending on whether the number is even or odd, print out an appropriate message to the user.\n",
        "* **Hint** How does an even/odd number react differently when divided by 2?\n",
        "* **Bonus points** If the number is a multiple of 4, print out a different message."
      ]
    },
    {
      "cell_type": "code",
      "metadata": {
        "id": "2Hlq5P4-sEg8",
        "colab": {
          "base_uri": "https://localhost:8080/"
        },
        "outputId": "49af5dee-c57f-4697-9961-95e9b45ef648"
      },
      "source": [
        "num = int(input(\"Enter a number here: \"))"
      ],
      "execution_count": null,
      "outputs": [
        {
          "name": "stdout",
          "output_type": "stream",
          "text": [
            "Enter a number here: 4\n"
          ]
        }
      ]
    },
    {
      "cell_type": "markdown",
      "metadata": {
        "id": "xgfIbCTenocM"
      },
      "source": [
        "### **Exercise 2**\n",
        "\n",
        "* **Instructions** You are building a cool new social network. You want to make sure users create safe passwords. To do that, write a piece of code asking users to define a password and checking the length of it. Use conditional statements to tell users if their password is safe or not.\n",
        "* **Hints**: Use Password_asked = input(\"Lorem ipsum\") to ask the user a number. Don’t forget indentation and “:” after if statements\n",
        "* **Bonus points**: Use a while loop instead of an if to ask over and over again the password to the user until it’s safe"
      ]
    },
    {
      "cell_type": "code",
      "metadata": {
        "id": "cBZnv_Ihvpp7"
      },
      "source": [
        "\n"
      ],
      "execution_count": null,
      "outputs": []
    },
    {
      "cell_type": "code",
      "metadata": {
        "id": "NNv7ZvLBw7vy"
      },
      "source": [
        ""
      ],
      "execution_count": null,
      "outputs": []
    },
    {
      "cell_type": "markdown",
      "metadata": {
        "id": "cLYnhb2UtUqu"
      },
      "source": [
        "## **Writing functions**\n",
        "\n",
        "Functions are piece of code that accept a set of arguments as input and return a value. Functions can be executed 'on-demand'. \n",
        "Functions can be created using the following scheme:\n",
        "\n",
        "\n",
        "*   `def`, which is the abbreviation of 'define' and which is the prelude to any construction of function.\n",
        "*   `function name`, which is named exactly as a variable. Do not use an already instantiated variable name to name a function.\n",
        "* `list of parameters` separated by commas and enclosed by opening and closing parentheses.\n",
        "* `:`,  colon to close the line\n",
        "* `()`, parentheses are mandatory, even if your function does not wait for any parameter."
      ]
    },
    {
      "cell_type": "code",
      "metadata": {
        "id": "FdIoMn52zzQK"
      },
      "source": [
        "def my_function(parameter1, parameter2):\n",
        "    \"\"\"\n",
        "    This is how my function works\n",
        "    \"\"\" \n",
        "    a = parameter1 + parameter2\n",
        "    return a "
      ],
      "execution_count": null,
      "outputs": []
    },
    {
      "cell_type": "code",
      "metadata": {
        "colab": {
          "base_uri": "https://localhost:8080/"
        },
        "id": "8nC_235Ez-a5",
        "outputId": "1fc2703b-c547-44bc-b1ad-c326fcea94b7"
      },
      "source": [
        "my_function(2,5)"
      ],
      "execution_count": null,
      "outputs": [
        {
          "output_type": "execute_result",
          "data": {
            "text/plain": [
              "7"
            ]
          },
          "metadata": {},
          "execution_count": 3
        }
      ]
    },
    {
      "cell_type": "markdown",
      "metadata": {
        "id": "n3BnwfXn0KKD"
      },
      "source": [
        "Functions accept both regular arguments and keyword arguments. This means that you can specify which keywords are which and pass them in as follows:"
      ]
    },
    {
      "cell_type": "code",
      "metadata": {
        "id": "n-KTDz7t0kcL"
      },
      "source": [
        "def keyword_function(a=1, b=2):\n",
        "  return a + b"
      ],
      "execution_count": null,
      "outputs": []
    },
    {
      "cell_type": "code",
      "metadata": {
        "colab": {
          "base_uri": "https://localhost:8080/"
        },
        "id": "G1n-pmMk0nkt",
        "outputId": "00c911b0-11d6-4ccb-d978-217319ea0ff8"
      },
      "source": [
        "keyword_function()"
      ],
      "execution_count": null,
      "outputs": [
        {
          "output_type": "execute_result",
          "data": {
            "text/plain": [
              "3"
            ]
          },
          "metadata": {},
          "execution_count": 5
        }
      ]
    },
    {
      "cell_type": "code",
      "metadata": {
        "colab": {
          "base_uri": "https://localhost:8080/"
        },
        "id": "hcbal6J50rlu",
        "outputId": "14c5c7a1-c381-4ea5-cd6b-8579400e4cee"
      },
      "source": [
        "keyword_function(6,9)"
      ],
      "execution_count": null,
      "outputs": [
        {
          "output_type": "execute_result",
          "data": {
            "text/plain": [
              "15"
            ]
          },
          "metadata": {},
          "execution_count": 6
        }
      ]
    },
    {
      "cell_type": "markdown",
      "metadata": {
        "id": "U5gc9uUv01uf"
      },
      "source": [
        "You can mix regular arguments with keyword arguments"
      ]
    },
    {
      "cell_type": "code",
      "metadata": {
        "id": "TPoIV2RI0-9p"
      },
      "source": [
        "def mixed_function(a, b=2, c=3):\n",
        "  return a + b + c"
      ],
      "execution_count": null,
      "outputs": []
    },
    {
      "cell_type": "code",
      "metadata": {
        "colab": {
          "base_uri": "https://localhost:8080/"
        },
        "id": "Yke3Hgzd1C-O",
        "outputId": "da60e6e4-a44e-47c8-d793-f7d867805a2d"
      },
      "source": [
        "mixed_function(5)"
      ],
      "execution_count": null,
      "outputs": [
        {
          "output_type": "execute_result",
          "data": {
            "text/plain": [
              "10"
            ]
          },
          "metadata": {},
          "execution_count": 8
        }
      ]
    },
    {
      "cell_type": "code",
      "metadata": {
        "colab": {
          "base_uri": "https://localhost:8080/"
        },
        "id": "3euzwLPM1HT3",
        "outputId": "61cf98e9-de64-40a5-ed0b-c68f8771f9bc"
      },
      "source": [
        "mixed_function(a=1, b=8, c=12)"
      ],
      "execution_count": null,
      "outputs": [
        {
          "output_type": "execute_result",
          "data": {
            "text/plain": [
              "21"
            ]
          },
          "metadata": {},
          "execution_count": 9
        }
      ]
    },
    {
      "cell_type": "markdown",
      "metadata": {
        "id": "Uhy2LlZR1LP2"
      },
      "source": [
        "### **Exercise 3**\n",
        "From a list of numbers, create a new list that contains only numbers from the first list that are lower or equal to 5"
      ]
    },
    {
      "cell_type": "code",
      "metadata": {
        "id": "PhBeRIcD1hH2"
      },
      "source": [
        ""
      ],
      "execution_count": null,
      "outputs": []
    },
    {
      "cell_type": "code",
      "metadata": {
        "id": "o5NEIWeQ2MSI"
      },
      "source": [
        ""
      ],
      "execution_count": null,
      "outputs": []
    },
    {
      "cell_type": "code",
      "metadata": {
        "id": "r3EDXcie2jrT"
      },
      "source": [
        ""
      ],
      "execution_count": null,
      "outputs": []
    },
    {
      "cell_type": "markdown",
      "metadata": {
        "id": "RMoooPmw2tZy"
      },
      "source": [
        "### **Exercise 4**\n",
        "Define a function that computes the average of the elements of a list (all the elements of the list must be numbers)."
      ]
    },
    {
      "cell_type": "code",
      "metadata": {
        "id": "kfBQqiCI23bf"
      },
      "source": [
        ""
      ],
      "execution_count": null,
      "outputs": []
    },
    {
      "cell_type": "code",
      "metadata": {
        "id": "OkGfvSGU3pYn"
      },
      "source": [
        ""
      ],
      "execution_count": null,
      "outputs": []
    },
    {
      "cell_type": "code",
      "metadata": {
        "id": "uQXrrHvO33Pi"
      },
      "source": [
        ""
      ],
      "execution_count": null,
      "outputs": []
    },
    {
      "cell_type": "code",
      "metadata": {
        "id": "mpnSquL34beS"
      },
      "source": [
        ""
      ],
      "execution_count": null,
      "outputs": []
    },
    {
      "cell_type": "code",
      "metadata": {
        "id": "thQfVYuX4fvt"
      },
      "source": [
        ""
      ],
      "execution_count": null,
      "outputs": []
    },
    {
      "cell_type": "markdown",
      "metadata": {
        "id": "1JfX9r_95UCK"
      },
      "source": [
        "### **Exercise 5**\n",
        "Define a function to calculate the median of the elements of a list (all the elements of the list must be numbers)."
      ]
    },
    {
      "cell_type": "code",
      "metadata": {
        "id": "jQVOO5xp5zvX"
      },
      "source": [
        ""
      ],
      "execution_count": null,
      "outputs": []
    },
    {
      "cell_type": "code",
      "metadata": {
        "id": "QF7mIq116HBt"
      },
      "source": [
        ""
      ],
      "execution_count": null,
      "outputs": []
    },
    {
      "cell_type": "code",
      "metadata": {
        "id": "r4NOl04s6Mje"
      },
      "source": [
        ""
      ],
      "execution_count": null,
      "outputs": []
    },
    {
      "cell_type": "code",
      "metadata": {
        "id": "E00411f06iYr"
      },
      "source": [
        ""
      ],
      "execution_count": null,
      "outputs": []
    },
    {
      "cell_type": "code",
      "metadata": {
        "id": "1H3DcFUZ69p1"
      },
      "source": [
        ""
      ],
      "execution_count": null,
      "outputs": []
    },
    {
      "cell_type": "markdown",
      "metadata": {
        "id": "Ke6m98wG-pQc"
      },
      "source": [
        "### **Exercise 6**\n",
        "Define a function to display integers from 0 to 15 not included, three by three, using a for loop and the range statement."
      ]
    },
    {
      "cell_type": "code",
      "metadata": {
        "id": "sAO4gPy3-zSo"
      },
      "source": [
        ""
      ],
      "execution_count": null,
      "outputs": []
    },
    {
      "cell_type": "markdown",
      "metadata": {
        "id": "cnvrSlTBDzsR"
      },
      "source": [
        "### **Exercise 7**\n",
        "Define a function to count the number of vowels and the number of consonants in words"
      ]
    },
    {
      "cell_type": "code",
      "metadata": {
        "id": "5qBYEyLtEOTD"
      },
      "source": [
        ""
      ],
      "execution_count": null,
      "outputs": []
    },
    {
      "cell_type": "code",
      "metadata": {
        "id": "jhkjHnRBFSxV"
      },
      "source": [
        ""
      ],
      "execution_count": null,
      "outputs": []
    },
    {
      "cell_type": "code",
      "metadata": {
        "id": "wGTUsU7XFvap"
      },
      "source": [
        ""
      ],
      "execution_count": null,
      "outputs": []
    },
    {
      "cell_type": "code",
      "metadata": {
        "id": "N17jWcgjF75I"
      },
      "source": [
        ""
      ],
      "execution_count": null,
      "outputs": []
    },
    {
      "cell_type": "markdown",
      "metadata": {
        "id": "7-TbIKQbG7xB"
      },
      "source": [
        "### **Exercise 8**\n",
        "Define a function to print the Fibonacci series. \n",
        "* **Hint** The Fibonacci series is a series of numbers in which each number (Fibonacci number) is the sum of the two preceding numbers. The simplest is the series 1, 1, 2, 3, 5, 8, etc."
      ]
    },
    {
      "cell_type": "code",
      "metadata": {
        "id": "dAGUfjSdHBlA"
      },
      "source": [
        ""
      ],
      "execution_count": null,
      "outputs": []
    },
    {
      "cell_type": "markdown",
      "metadata": {
        "id": "kLiQ1k3fJ9Oq"
      },
      "source": [
        "### **Exercise 9**"
      ]
    },
    {
      "cell_type": "markdown",
      "metadata": {
        "id": "jHt6qdMbKr4A"
      },
      "source": [
        "Define a function to ask the user to provide her name and age. Print the name, the number of years that separate the user age from the age of 100 and the year when she will turn 100."
      ]
    },
    {
      "cell_type": "code",
      "metadata": {
        "id": "rjniFHjwJ_yY"
      },
      "source": [
        "def multiplyby2()\n",
        "  "
      ],
      "execution_count": null,
      "outputs": []
    },
    {
      "cell_type": "markdown",
      "metadata": {
        "id": "MHfWn6MMLkpT"
      },
      "source": [
        "### **Exercise 10**\n",
        "Define a function to ask a first user to pick one item among rock, paper and scissor. Ask a second user to select an item from this list too. Compare the preferencese. If the users selected the same item, the game result is tie. Otherwise, paper wins over rock, rock wins over scissor and scissor wins over paper. Print the result of the game at the end of the gameplay."
      ]
    },
    {
      "cell_type": "code",
      "metadata": {
        "id": "ebYXypkXLozI"
      },
      "source": [
        ""
      ],
      "execution_count": null,
      "outputs": []
    },
    {
      "cell_type": "code",
      "metadata": {
        "id": "eGN71DMetPGl"
      },
      "source": [
        "bakeryPrices = {'pain au chocolat': 2.00, 'baguette': 1.50, 'ourson': 1.75}"
      ],
      "execution_count": null,
      "outputs": []
    },
    {
      "cell_type": "markdown",
      "metadata": {
        "id": "QthTkT0Fqc4r"
      },
      "source": [
        "You own a bakery and you want to replace the cashier with a robot. Write a function that takes as an input the viennoiserie asked by"
      ]
    },
    {
      "cell_type": "code",
      "metadata": {
        "id": "aKeymuRGtZ1r",
        "colab": {
          "base_uri": "https://localhost:8080/"
        },
        "outputId": "b8b7ffc6-a721-4d4d-851c-77786e6f8b37"
      },
      "source": [
        "def buyItem(item, numEuros):\n",
        "    if item not in bakeryPrices:\n",
        "        print(\"Sorry we don't have %s\" % (item))\n",
        "    else:\n",
        "        cost = bakeryPrices[item] * numEuros\n",
        "        print(\"That'll be %f please\" % (cost))\n",
        "\n",
        "# Main Function\n",
        "if __name__ == '__main__':\n",
        "    buyItem('pain au chocolat', 2.4)\n",
        "    buyItem('pain au raisin', 2)"
      ],
      "execution_count": null,
      "outputs": [
        {
          "output_type": "stream",
          "name": "stdout",
          "text": [
            "That'll be 4.800000 please\n",
            "Sorry we don't have pain au raisin\n"
          ]
        }
      ]
    },
    {
      "cell_type": "code",
      "metadata": {
        "colab": {
          "base_uri": "https://localhost:8080/"
        },
        "id": "3T9R7TPLnOwV",
        "outputId": "20e19f9a-4a8c-4472-edd4-a0297b3f3b97"
      },
      "source": [
        "buyItem(\"croissantauxamandes\",4)"
      ],
      "execution_count": null,
      "outputs": [
        {
          "output_type": "stream",
          "name": "stdout",
          "text": [
            "Sorry we don't have croissantauxamandes\n"
          ]
        }
      ]
    },
    {
      "cell_type": "markdown",
      "metadata": {
        "id": "UCgvpjVWteA-"
      },
      "source": [
        "## **Object Basics**"
      ]
    },
    {
      "cell_type": "markdown",
      "metadata": {
        "id": "U8WsZgAHtmao"
      },
      "source": [
        "### **Classes**\n",
        "Classes are abstract objects that encapsulate the data (i.e., prevent it from being altered or used inappropriately) and make it easier to write general-purpose code. \n",
        "\n",
        "To remember: methods are associated with the objects of the class they belong to. Functions are not associated with any object. We can invoke a function just by its name. Functions operate on the data you pass to them as arguments."
      ]
    },
    {
      "cell_type": "code",
      "metadata": {
        "id": "cPBUugFztlUe"
      },
      "source": [
        "class FruitShop:\n",
        "\n",
        "    def __init__(self, name, fruitPrices):\n",
        "        \"\"\"\n",
        "            name: Name of the fruit shop\n",
        "\n",
        "            fruitPrices: Dictionary with keys as fruit\n",
        "            strings and prices for values e.g.\n",
        "            {'apples': 2.00, 'oranges': 1.50, 'pears': 1.75}\n",
        "        \"\"\"\n",
        "        self.fruitPrices = fruitPrices\n",
        "        self.name = name\n",
        "        print('Welcome to %s fruit shop' % (name))\n",
        "\n",
        "    def getCostPerPound(self, fruit):\n",
        "        \"\"\"\n",
        "            fruit: Fruit string\n",
        "        Returns cost of 'fruit', assuming 'fruit'\n",
        "        is in our inventory or None otherwise\n",
        "        \"\"\"\n",
        "        if fruit not in self.fruitPrices:\n",
        "            return None\n",
        "        return self.fruitPrices[fruit]\n",
        "\n",
        "    def getPriceOfOrder(self, orderList):\n",
        "        \"\"\"\n",
        "            orderList: List of (fruit, numPounds) tuples\n",
        "\n",
        "        Returns cost of orderList, only including the values of\n",
        "        fruits that this fruit shop has.\n",
        "        \"\"\"\n",
        "        totalCost = 0.0\n",
        "        for fruit, numPounds in orderList:\n",
        "            costPerPound = self.getCostPerPound(fruit)\n",
        "            if costPerPound != None:\n",
        "                totalCost += numPounds * costPerPound\n",
        "        return totalCost\n",
        "\n",
        "    def getName(self):\n",
        "        return self.name"
      ],
      "execution_count": null,
      "outputs": []
    },
    {
      "cell_type": "markdown",
      "metadata": {
        "id": "v6qYb5ALt0yV"
      },
      "source": [
        "### **Objects**\n",
        "if you are working on different python codes, you can import the class FruitShop by using `import` followed by the name of the file without the extension (e.g., import shop). This make your class accessible to other scripts, e.g., you can create other objects FruitShop as follows:\n",
        "\n",
        "\n",
        "```\n",
        "import shop\n",
        "\n",
        "shopName = 'the Berkeley Bowl'\n",
        "fruitPrices = {'apples': 1.00, 'oranges': 1.50, 'pears': 1.75}\n",
        "berkeleyShop = shop.FruitShop(shopName, fruitPrices)\n",
        "applePrice = berkeleyShop.getCostPerPound('apples')\n",
        "print(applePrice)\n",
        "print('Apples cost $%.2f at %s.' % (applePrice, shopName))\n",
        "\n",
        "otherName = 'the Stanford Mall'\n",
        "otherFruitPrices = {'kiwis': 6.00, 'apples': 4.50, 'peaches': 8.75}\n",
        "otherFruitShop = shop.FruitShop(otherName, otherFruitPrices)\n",
        "otherPrice = otherFruitShop.getCostPerPound('apples')\n",
        "print(otherPrice)\n",
        "print('Apples cost $%.2f at %s.' % (otherPrice, otherName))\n",
        "print(\"My, that's expensive!\")\n",
        "\n",
        "```\n",
        "\n"
      ]
    }
  ]
}