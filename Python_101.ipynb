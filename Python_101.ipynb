{
  "nbformat": 4,
  "nbformat_minor": 0,
  "metadata": {
    "colab": {
      "name": "Python_101.ipynb",
      "provenance": [],
      "collapsed_sections": [
        "751BSsuF7dqI",
        "joEQKgYBalby",
        "ecrKo3xAWxSK",
        "3bzfv4pQF9_-",
        "YmxCuemzAVd7",
        "UyOZZPKnBcdt",
        "QFPAy47kEiFg",
        "NcGIUOukILKf",
        "NbNjP-JcI5Vw",
        "5ZVK1sN_JoWz",
        "wulvEEjKLhP8",
        "v-xUU94QMXF-",
        "TV6JKeBBMbGW"
      ],
      "toc_visible": true
    },
    "kernelspec": {
      "name": "python3",
      "display_name": "Python 3"
    },
    "language_info": {
      "name": "python"
    }
  },
  "cells": [
    {
      "cell_type": "markdown",
      "metadata": {
        "id": "NiY-F8B3l7l0"
      },
      "source": [
        "# **Welcome to your first shared notebook on Google Colab!**\n",
        "\n",
        "Please make a copy of this colab and start play with your own copy!\n",
        "\n",
        "Colab is a hosted **Jupyter notebook** service that requires **no setup**, while providing **free access** to computing resources including GPUs (i.e. resources for creating images). \n",
        "\n",
        "Jupyter notebook is an open-source web application that allows to create and share documents that contain **live code**, **equations**, **visualizations** and **narrative text**.\n",
        "\n",
        "A notebook is a list of cells. Cells contain either explanatory text or executable code and its output. There are two kinds of cells: \n",
        "* **Text cells** (Markdown)\n",
        "* **Code cells** (Equations, images and scripts)\n",
        "\n",
        "Colab supports over 40 programming languages including **Python**, R, Julia, Scala. \n",
        "Click in the cell to select it and execute the contents in the following ways:\n",
        "* Click the **Play icon** in the left gutter of the cell;\n",
        "* Type **Cmd/Ctrl+Enter** to run the cell in place;\n",
        "* Type **Shift+Enter** to run the cell and move focus to the next cell (adding one if none exists); or\n",
        "* Type **Alt+Enter** **option/return** to run the cell and insert a new code cell immediately below it.\n",
        "\n",
        "An overview of Colaboratory Features can be found here: https://colab.research.google.com/notebooks/basic_features_overview.ipynb#scrollTo=KR921S_OQSHG."
      ]
    },
    {
      "cell_type": "markdown",
      "metadata": {
        "id": "i-0VAY3pXQL9"
      },
      "source": [
        "#### **Quick Quiz** \n",
        "Create a code shell and type the command print(\"Hello world\"). Press shift + enter to run it."
      ]
    },
    {
      "cell_type": "code",
      "metadata": {
        "id": "JxcsTEXv-lFh"
      },
      "source": [
        ""
      ],
      "execution_count": null,
      "outputs": []
    },
    {
      "cell_type": "code",
      "metadata": {
        "colab": {
          "base_uri": "https://localhost:8080/"
        },
        "id": "v-CGDgOU-mQi",
        "outputId": "bf21bb43-0425-4947-8337-0ce7e1daf608"
      },
      "source": [
        "print(\"Hello World\")"
      ],
      "execution_count": null,
      "outputs": [
        {
          "output_type": "stream",
          "name": "stdout",
          "text": [
            "Hello World\n"
          ]
        }
      ]
    },
    {
      "cell_type": "markdown",
      "metadata": {
        "id": "Y0xQN_uPXxtn"
      },
      "source": [
        "The execution of the code is sequential. Each line is executed one after the other."
      ]
    },
    {
      "cell_type": "markdown",
      "metadata": {
        "id": "jsVS095cUERu"
      },
      "source": [
        "Time to get your hands dirty!\n",
        "This notebook aims to summarize the contents of many online resources on Python Basics. This section will serve as a quick crash course both on the Python programming language and on the use of Python for scientific computing.\n",
        "\n",
        "\n",
        "# **Python Basics**\n",
        "\n",
        "**Table of Contents**\n",
        "* Basic Data Types\n",
        "  * Numbers (e.g. integer, float, complex)\n",
        "  * Strings (text)\n",
        "  * Booleans (bool)\n",
        "* Operators\n",
        "* Variables\n",
        "* Dir and Help\n",
        "* Built-in Data Structures\n",
        "  * Lists\n",
        "  * Tuples\n",
        "  * Sets\n",
        "  * Dictionaries\n",
        "* Writing Scripts\n",
        "  * Indentation\n",
        "  * Tabs vs Spaces\n",
        "  * Control Structures and Loops\n",
        "    * If Statement\n",
        "    * For Statement\n",
        "* Writing Functions\n",
        "* Object Basics\n",
        "  * Classes\n",
        "  * Objects\n",
        "  * Static vs Instance Variables\n",
        "* Tips and Tricks\n",
        "* Troubleshooting\n",
        "* More References"
      ]
    },
    {
      "cell_type": "markdown",
      "metadata": {
        "id": "3jaXY2vN3P5T"
      },
      "source": [
        "## **Basic Data Types**\n",
        "Every value in Python has a data type. There are several data types (i.e., objects), we will list below some important ones: numbers, strings and booleans.\n",
        "To verify the type of any object in Python, use the `type()` function:\n",
        "\n",
        "\n"
      ]
    },
    {
      "cell_type": "code",
      "metadata": {
        "colab": {
          "base_uri": "https://localhost:8080/"
        },
        "id": "ApXMX_sW5Jt9",
        "outputId": "c1cd4b5a-24de-4dec-e2f4-c9a1ae75b275"
      },
      "source": [
        "type(32)"
      ],
      "execution_count": null,
      "outputs": [
        {
          "output_type": "execute_result",
          "data": {
            "text/plain": [
              "int"
            ]
          },
          "metadata": {},
          "execution_count": 3
        }
      ]
    },
    {
      "cell_type": "code",
      "metadata": {
        "colab": {
          "base_uri": "https://localhost:8080/"
        },
        "id": "4m8NdabK5TjV",
        "outputId": "dab66126-fb7f-4786-d65b-0afbdff31c79"
      },
      "source": [
        "type(0.5)"
      ],
      "execution_count": null,
      "outputs": [
        {
          "output_type": "execute_result",
          "data": {
            "text/plain": [
              "float"
            ]
          },
          "metadata": {},
          "execution_count": 4
        }
      ]
    },
    {
      "cell_type": "code",
      "metadata": {
        "colab": {
          "base_uri": "https://localhost:8080/"
        },
        "id": "wKE7IJ775QY1",
        "outputId": "5f593469-a7a6-4e9e-b975-cdd912600770"
      },
      "source": [
        "type('students')"
      ],
      "execution_count": null,
      "outputs": [
        {
          "output_type": "execute_result",
          "data": {
            "text/plain": [
              "str"
            ]
          },
          "metadata": {},
          "execution_count": 5
        }
      ]
    },
    {
      "cell_type": "code",
      "metadata": {
        "colab": {
          "base_uri": "https://localhost:8080/"
        },
        "id": "401rf6NT5bxv",
        "outputId": "58d4750c-e417-43a2-8a2f-5cfce10f0f96"
      },
      "source": [
        "type(True)"
      ],
      "execution_count": null,
      "outputs": [
        {
          "output_type": "execute_result",
          "data": {
            "text/plain": [
              "bool"
            ]
          },
          "metadata": {},
          "execution_count": 6
        }
      ]
    },
    {
      "cell_type": "markdown",
      "metadata": {
        "id": "WbI9Yv4S4fNM"
      },
      "source": [
        "### **Numbers**\n",
        "There are three numeric types in Python:\n",
        "* `int`: a number, positive or negative, without decimals, of unlimited length.\n",
        "* `float`: a number, positive or negative, containing one or more decimals\n",
        "* `complex`: a number including an unknown value identify by \"j\""
      ]
    },
    {
      "cell_type": "code",
      "metadata": {
        "colab": {
          "base_uri": "https://localhost:8080/"
        },
        "id": "9syjZCFA6BTN",
        "outputId": "48c27f64-c477-473e-ccc3-2346a805001e"
      },
      "source": [
        "type(3j)"
      ],
      "execution_count": null,
      "outputs": [
        {
          "output_type": "execute_result",
          "data": {
            "text/plain": [
              "complex"
            ]
          },
          "metadata": {},
          "execution_count": 7
        }
      ]
    },
    {
      "cell_type": "markdown",
      "metadata": {
        "id": "vrLXpl3mnIJe"
      },
      "source": [
        "### **Strings**\n",
        "Strings in Python are surrounded by either single quotation marks, or double quotation marks.\\\n",
        "You can display a string literal with the `print()` function."
      ]
    },
    {
      "cell_type": "code",
      "metadata": {
        "colab": {
          "base_uri": "https://localhost:8080/"
        },
        "id": "fWwMlnMEvsHF",
        "outputId": "b81f11f1-d543-4879-b4b3-b869bbdef1ca"
      },
      "source": [
        "print('Data Science for Public Policy')"
      ],
      "execution_count": null,
      "outputs": [
        {
          "output_type": "stream",
          "name": "stdout",
          "text": [
            "Data Science for Public Policy\n"
          ]
        }
      ]
    },
    {
      "cell_type": "markdown",
      "metadata": {
        "id": "V25cN9exEvOb"
      },
      "source": [
        "To concatenate string you can use the [+] operator"
      ]
    },
    {
      "cell_type": "code",
      "metadata": {
        "colab": {
          "base_uri": "https://localhost:8080/",
          "height": 36
        },
        "id": "CqSd2kH8nKBZ",
        "outputId": "1f2d8be3-0394-4949-b657-abbfcb5a1abc"
      },
      "source": [
        "'data' + \" science\""
      ],
      "execution_count": null,
      "outputs": [
        {
          "output_type": "execute_result",
          "data": {
            "application/vnd.google.colaboratory.intrinsic+json": {
              "type": "string"
            },
            "text/plain": [
              "'data science'"
            ]
          },
          "metadata": {},
          "execution_count": 10
        }
      ]
    },
    {
      "cell_type": "markdown",
      "metadata": {
        "id": "wRGgUqUsE4qV"
      },
      "source": [
        "Python provides a set of built-in methods. Built-in methods are ready made functions that you can use without having to define them.\\\n",
        "A comprehensive overview of built-in methods for strings and other data types/structures can be find here: https://docs.python.org/3/library/stdtypes.html#string-methods"
      ]
    },
    {
      "cell_type": "code",
      "metadata": {
        "colab": {
          "base_uri": "https://localhost:8080/",
          "height": 35
        },
        "id": "EZHTSuOMnOFf",
        "outputId": "f39c273c-0d46-47aa-c080-9583ea3f8874"
      },
      "source": [
        "'data'.upper()"
      ],
      "execution_count": null,
      "outputs": [
        {
          "output_type": "execute_result",
          "data": {
            "application/vnd.google.colaboratory.intrinsic+json": {
              "type": "string"
            },
            "text/plain": [
              "'DATA'"
            ]
          },
          "metadata": {},
          "execution_count": 47
        }
      ]
    },
    {
      "cell_type": "code",
      "metadata": {
        "colab": {
          "base_uri": "https://localhost:8080/",
          "height": 35
        },
        "id": "TunhiX_AnQtm",
        "outputId": "809e67f5-e0a9-47b0-945f-f9d19b405a67"
      },
      "source": [
        "'HELP'.lower()"
      ],
      "execution_count": null,
      "outputs": [
        {
          "output_type": "execute_result",
          "data": {
            "application/vnd.google.colaboratory.intrinsic+json": {
              "type": "string"
            },
            "text/plain": [
              "'help'"
            ]
          },
          "metadata": {},
          "execution_count": 48
        }
      ]
    },
    {
      "cell_type": "code",
      "metadata": {
        "colab": {
          "base_uri": "https://localhost:8080/"
        },
        "id": "_n3tZtQ0naZ-",
        "outputId": "60aa5801-59cf-4d36-ed1c-4ff26cf98ece"
      },
      "source": [
        "len('Help')"
      ],
      "execution_count": null,
      "outputs": [
        {
          "output_type": "execute_result",
          "data": {
            "text/plain": [
              "4"
            ]
          },
          "metadata": {},
          "execution_count": 14
        }
      ]
    },
    {
      "cell_type": "markdown",
      "metadata": {
        "id": "751BSsuF7dqI"
      },
      "source": [
        "### **Booleans**\n",
        "Booleans are binary representation of truth states: True or False, 1 or 0. "
      ]
    },
    {
      "cell_type": "code",
      "metadata": {
        "colab": {
          "base_uri": "https://localhost:8080/"
        },
        "id": "6FF7tM3l7sK5",
        "outputId": "6d308bd1-06e6-4701-d771-623784175473"
      },
      "source": [
        "a = True  \n",
        "a = False  \n",
        "print(a)"
      ],
      "execution_count": null,
      "outputs": [
        {
          "output_type": "stream",
          "name": "stdout",
          "text": [
            "False\n"
          ]
        }
      ]
    },
    {
      "cell_type": "markdown",
      "metadata": {
        "id": "4vU_wxvM7-v6"
      },
      "source": [
        "The `bool()` function allows you to evaluate any value, and give you `True` or `False` in return. Almost any value is evaluated to `True` if it has some sort of content.\n",
        "* Any string is True, except empty strings.\n",
        "* Any number is True, except 0.\n",
        "* Any list, tuple, set, and dictionary are True, except empty ones.\n",
        "\n"
      ]
    },
    {
      "cell_type": "markdown",
      "metadata": {
        "id": "4kDyP-HAmpit"
      },
      "source": [
        "## **Operators**\n",
        "Operators are used to perform operations on variables and values.\\\n",
        "*Example* of standard operators are:\\\n",
        "I + j the sum\\\n",
        "I - j the difference\\\n",
        "I * j the product\\\n",
        "I / j division\\\n",
        "I // j int division (returns integers)\\\n",
        "I % j the remainder when i is divided by j\\\n",
        "I ** j i to the power of j\\\n",
        "\\\n",
        "`<object> <operator> <object>`"
      ]
    },
    {
      "cell_type": "markdown",
      "metadata": {
        "id": "QhnyiGNWEin3"
      },
      "source": [
        "Arithmetic expressions"
      ]
    },
    {
      "cell_type": "code",
      "metadata": {
        "colab": {
          "base_uri": "https://localhost:8080/"
        },
        "id": "nkeOwDHOlr2p",
        "outputId": "b3de0603-fb25-4c5c-f952-201fa0faa79c"
      },
      "source": [
        "1 + 1"
      ],
      "execution_count": null,
      "outputs": [
        {
          "output_type": "execute_result",
          "data": {
            "text/plain": [
              "2"
            ]
          },
          "metadata": {},
          "execution_count": 4
        }
      ]
    },
    {
      "cell_type": "code",
      "metadata": {
        "colab": {
          "base_uri": "https://localhost:8080/"
        },
        "id": "slxEm9lSm17g",
        "outputId": "1dfccddc-9689-41af-f39b-d019efd31065"
      },
      "source": [
        "2 * 3"
      ],
      "execution_count": null,
      "outputs": [
        {
          "output_type": "execute_result",
          "data": {
            "text/plain": [
              "6"
            ]
          },
          "metadata": {},
          "execution_count": 7
        }
      ]
    },
    {
      "cell_type": "code",
      "metadata": {
        "colab": {
          "base_uri": "https://localhost:8080/"
        },
        "id": "qW8Lu1MFYkaQ",
        "outputId": "e8a394c6-7a4b-44a7-e2d7-84740ae3c72a"
      },
      "source": [
        "14679/56"
      ],
      "execution_count": null,
      "outputs": [
        {
          "output_type": "execute_result",
          "data": {
            "text/plain": [
              "262.125"
            ]
          },
          "metadata": {},
          "execution_count": 101
        }
      ]
    },
    {
      "cell_type": "markdown",
      "metadata": {
        "id": "4FrYY5n_EnkI"
      },
      "source": [
        "Boolean operators\n",
        "\n",
        "and\t- conjunction\\\n",
        "or\t- disjunction\\\n",
        "not\t- negation"
      ]
    },
    {
      "cell_type": "code",
      "metadata": {
        "colab": {
          "base_uri": "https://localhost:8080/"
        },
        "id": "50W-0rEFm60m",
        "outputId": "420afbb6-f656-45b5-bd15-b48ecb1d7390"
      },
      "source": [
        "1 == 0"
      ],
      "execution_count": null,
      "outputs": [
        {
          "output_type": "execute_result",
          "data": {
            "text/plain": [
              "False"
            ]
          },
          "metadata": {},
          "execution_count": 5
        }
      ]
    },
    {
      "cell_type": "code",
      "metadata": {
        "colab": {
          "base_uri": "https://localhost:8080/"
        },
        "id": "hnpktzBFm-cV",
        "outputId": "0664bb4d-6e81-4221-aeb5-f4cf5097446f"
      },
      "source": [
        "not (1 == 0)"
      ],
      "execution_count": null,
      "outputs": [
        {
          "output_type": "execute_result",
          "data": {
            "text/plain": [
              "True"
            ]
          },
          "metadata": {},
          "execution_count": 8
        }
      ]
    },
    {
      "cell_type": "code",
      "metadata": {
        "colab": {
          "base_uri": "https://localhost:8080/"
        },
        "id": "YarEg9iRnBQl",
        "outputId": "ac216270-92c8-4170-b9ad-4079a46372f4"
      },
      "source": [
        "(2 == 2) and (2 == 3)"
      ],
      "execution_count": null,
      "outputs": [
        {
          "output_type": "execute_result",
          "data": {
            "text/plain": [
              "False"
            ]
          },
          "metadata": {},
          "execution_count": 9
        }
      ]
    },
    {
      "cell_type": "code",
      "metadata": {
        "colab": {
          "base_uri": "https://localhost:8080/"
        },
        "id": "Ir8GVtg5nDU_",
        "outputId": "9dbe67a0-9902-4b16-ed28-96659850d2e4"
      },
      "source": [
        "(2 == 2) or (2 == 3)"
      ],
      "execution_count": null,
      "outputs": [
        {
          "output_type": "execute_result",
          "data": {
            "text/plain": [
              "True"
            ]
          },
          "metadata": {},
          "execution_count": 10
        }
      ]
    },
    {
      "cell_type": "markdown",
      "metadata": {
        "id": "dbXZGXEvFDRw"
      },
      "source": [
        "## **Variables**\n",
        "Variables are containers. They allow you to store data values.\n"
      ]
    },
    {
      "cell_type": "markdown",
      "metadata": {
        "id": "hulGGWoUZRbp"
      },
      "source": [
        "To define a variable \"s\" use the [=]."
      ]
    },
    {
      "cell_type": "code",
      "metadata": {
        "id": "MLlIEfCOnVNG"
      },
      "source": [
        "s = 'hello world'"
      ],
      "execution_count": null,
      "outputs": []
    },
    {
      "cell_type": "code",
      "metadata": {
        "colab": {
          "base_uri": "https://localhost:8080/"
        },
        "id": "HWcE7TrNnhYG",
        "outputId": "052fb06f-25d4-4642-e7ae-a7f0aef72d94"
      },
      "source": [
        "print(s)"
      ],
      "execution_count": null,
      "outputs": [
        {
          "output_type": "stream",
          "name": "stdout",
          "text": [
            "hello world\n"
          ]
        }
      ]
    },
    {
      "cell_type": "markdown",
      "metadata": {
        "id": "tCXxIiVRaIQT"
      },
      "source": [
        "You can overwrite the value associated to a variable."
      ]
    },
    {
      "cell_type": "code",
      "metadata": {
        "id": "p2nVJjwsaEfy"
      },
      "source": [
        "s = 'hello once again'"
      ],
      "execution_count": null,
      "outputs": []
    },
    {
      "cell_type": "markdown",
      "metadata": {
        "id": "3xx-kdesZX89"
      },
      "source": [
        "You can use a built-in method (i.e., upper()) to change the variable s."
      ]
    },
    {
      "cell_type": "code",
      "metadata": {
        "colab": {
          "base_uri": "https://localhost:8080/",
          "height": 35
        },
        "id": "s29-cu-EnkT2",
        "outputId": "abbda24d-0f48-4e9f-82f1-2b867ad8e7cb"
      },
      "source": [
        "s.upper()"
      ],
      "execution_count": null,
      "outputs": [
        {
          "output_type": "execute_result",
          "data": {
            "application/vnd.google.colaboratory.intrinsic+json": {
              "type": "string"
            },
            "text/plain": [
              "'HELLO ONCE AGAIN'"
            ]
          },
          "metadata": {},
          "execution_count": 107
        }
      ]
    },
    {
      "cell_type": "code",
      "metadata": {
        "colab": {
          "base_uri": "https://localhost:8080/"
        },
        "id": "KqbfSr46nmwW",
        "outputId": "83363a0d-37c9-4844-8c74-4e5b1e6413bf"
      },
      "source": [
        "len(s.upper())"
      ],
      "execution_count": null,
      "outputs": [
        {
          "output_type": "execute_result",
          "data": {
            "text/plain": [
              "16"
            ]
          },
          "metadata": {},
          "execution_count": 108
        }
      ]
    },
    {
      "cell_type": "code",
      "metadata": {
        "id": "9cuMBKzvnoZm"
      },
      "source": [
        "num = 8.0"
      ],
      "execution_count": null,
      "outputs": []
    },
    {
      "cell_type": "markdown",
      "metadata": {
        "id": "0XQwUVbuZw8D"
      },
      "source": [
        "You can define a value by using `+=`"
      ]
    },
    {
      "cell_type": "code",
      "metadata": {
        "id": "6bzpkYhDnp0O"
      },
      "source": [
        "num += 2.5"
      ],
      "execution_count": null,
      "outputs": []
    },
    {
      "cell_type": "code",
      "metadata": {
        "colab": {
          "base_uri": "https://localhost:8080/"
        },
        "id": "PuNzFwM0nrUe",
        "outputId": "d4514467-1091-464f-eb26-e5d0ce22fea9"
      },
      "source": [
        "print(num)"
      ],
      "execution_count": null,
      "outputs": [
        {
          "output_type": "stream",
          "name": "stdout",
          "text": [
            "10.5\n"
          ]
        }
      ]
    },
    {
      "cell_type": "markdown",
      "metadata": {
        "id": "joEQKgYBalby"
      },
      "source": [
        "#### **Quick Quiz**\n",
        "What would have happened if we were using **=**?"
      ]
    },
    {
      "cell_type": "markdown",
      "metadata": {
        "id": "L1zyINTUn3Ua"
      },
      "source": [
        "## **Dir and Help**"
      ]
    },
    {
      "cell_type": "markdown",
      "metadata": {
        "id": "pw_6Jlx1FfbG"
      },
      "source": [
        "To see what methods Python provides for a datatype, use the **dir** and **help** commands"
      ]
    },
    {
      "cell_type": "code",
      "metadata": {
        "id": "sOIHLWx4n-ZC"
      },
      "source": [
        "s = 'abc'"
      ],
      "execution_count": null,
      "outputs": []
    },
    {
      "cell_type": "code",
      "metadata": {
        "colab": {
          "base_uri": "https://localhost:8080/"
        },
        "id": "ghSGSJMlFUt2",
        "outputId": "76669aaf-fd2a-4022-a3e3-0c0763d817dd"
      },
      "source": [
        "dir(s)"
      ],
      "execution_count": null,
      "outputs": [
        {
          "output_type": "execute_result",
          "data": {
            "text/plain": [
              "['__add__',\n",
              " '__class__',\n",
              " '__contains__',\n",
              " '__delattr__',\n",
              " '__dir__',\n",
              " '__doc__',\n",
              " '__eq__',\n",
              " '__format__',\n",
              " '__ge__',\n",
              " '__getattribute__',\n",
              " '__getitem__',\n",
              " '__getnewargs__',\n",
              " '__gt__',\n",
              " '__hash__',\n",
              " '__init__',\n",
              " '__init_subclass__',\n",
              " '__iter__',\n",
              " '__le__',\n",
              " '__len__',\n",
              " '__lt__',\n",
              " '__mod__',\n",
              " '__mul__',\n",
              " '__ne__',\n",
              " '__new__',\n",
              " '__reduce__',\n",
              " '__reduce_ex__',\n",
              " '__repr__',\n",
              " '__rmod__',\n",
              " '__rmul__',\n",
              " '__setattr__',\n",
              " '__sizeof__',\n",
              " '__str__',\n",
              " '__subclasshook__',\n",
              " 'capitalize',\n",
              " 'casefold',\n",
              " 'center',\n",
              " 'count',\n",
              " 'encode',\n",
              " 'endswith',\n",
              " 'expandtabs',\n",
              " 'find',\n",
              " 'format',\n",
              " 'format_map',\n",
              " 'index',\n",
              " 'isalnum',\n",
              " 'isalpha',\n",
              " 'isascii',\n",
              " 'isdecimal',\n",
              " 'isdigit',\n",
              " 'isidentifier',\n",
              " 'islower',\n",
              " 'isnumeric',\n",
              " 'isprintable',\n",
              " 'isspace',\n",
              " 'istitle',\n",
              " 'isupper',\n",
              " 'join',\n",
              " 'ljust',\n",
              " 'lower',\n",
              " 'lstrip',\n",
              " 'maketrans',\n",
              " 'partition',\n",
              " 'replace',\n",
              " 'rfind',\n",
              " 'rindex',\n",
              " 'rjust',\n",
              " 'rpartition',\n",
              " 'rsplit',\n",
              " 'rstrip',\n",
              " 'split',\n",
              " 'splitlines',\n",
              " 'startswith',\n",
              " 'strip',\n",
              " 'swapcase',\n",
              " 'title',\n",
              " 'translate',\n",
              " 'upper',\n",
              " 'zfill']"
            ]
          },
          "metadata": {},
          "execution_count": 3
        }
      ]
    },
    {
      "cell_type": "code",
      "metadata": {
        "colab": {
          "base_uri": "https://localhost:8080/"
        },
        "id": "itShHCw9FtKg",
        "outputId": "78408982-7f44-4675-f7bc-a4f919de9be8"
      },
      "source": [
        "help(s.find)"
      ],
      "execution_count": null,
      "outputs": [
        {
          "output_type": "stream",
          "name": "stdout",
          "text": [
            "Help on built-in function find:\n",
            "\n",
            "find(...) method of builtins.str instance\n",
            "    S.find(sub[, start[, end]]) -> int\n",
            "    \n",
            "    Return the lowest index in S where substring sub is found,\n",
            "    such that sub is contained within S[start:end].  Optional\n",
            "    arguments start and end are interpreted as in slice notation.\n",
            "    \n",
            "    Return -1 on failure.\n",
            "\n"
          ]
        }
      ]
    },
    {
      "cell_type": "code",
      "metadata": {
        "colab": {
          "base_uri": "https://localhost:8080/"
        },
        "id": "OtiLC-sCF0y0",
        "outputId": "cbbc2d76-2675-4fb9-a351-aaa886fdec2b"
      },
      "source": [
        "s.find('b')"
      ],
      "execution_count": null,
      "outputs": [
        {
          "output_type": "execute_result",
          "data": {
            "text/plain": [
              "1"
            ]
          },
          "metadata": {},
          "execution_count": 5
        }
      ]
    },
    {
      "cell_type": "markdown",
      "metadata": {
        "id": "ecrKo3xAWxSK"
      },
      "source": [
        "#### **Quick Quiz**\n",
        "Define a variable of your choice (don't forget to use quotes if its text) and use type() command to discover its type. Check other methods you could use to modify the variable and apply one of them."
      ]
    },
    {
      "cell_type": "code",
      "metadata": {
        "id": "9ivwdX4pLX35"
      },
      "source": [
        ""
      ],
      "execution_count": null,
      "outputs": []
    },
    {
      "cell_type": "markdown",
      "metadata": {
        "id": "7Sws63NMF5xZ"
      },
      "source": [
        "## **Built-in Data Structures**"
      ]
    },
    {
      "cell_type": "markdown",
      "metadata": {
        "id": "3bzfv4pQF9_-"
      },
      "source": [
        "### Lists\n",
        "Lists store a sequence of mutable items. A mutable item is an object whose value can change once created."
      ]
    },
    {
      "cell_type": "code",
      "metadata": {
        "id": "M6VJfw1mGHCD"
      },
      "source": [
        "students = ['Jonas', 'Charlotte', 'Sina', 'Giulia']"
      ],
      "execution_count": null,
      "outputs": []
    },
    {
      "cell_type": "markdown",
      "metadata": {
        "id": "FmQI5VQU_Yuh"
      },
      "source": [
        "You can access the items in the list using their index. The index is the number that corresponds to the position of the item in the list.  \n",
        "**Be careful**, in Python, indexing starts at 0 (i.e., the first item has 0 as index).\n",
        "\n"
      ]
    },
    {
      "cell_type": "code",
      "metadata": {
        "colab": {
          "base_uri": "https://localhost:8080/",
          "height": 35
        },
        "id": "2Yl1R1QuGLHq",
        "outputId": "b34d2c4d-d57e-4596-eb2f-41aa1939f64d"
      },
      "source": [
        "students[0]"
      ],
      "execution_count": null,
      "outputs": [
        {
          "output_type": "execute_result",
          "data": {
            "application/vnd.google.colaboratory.intrinsic+json": {
              "type": "string"
            },
            "text/plain": [
              "'Jonas'"
            ]
          },
          "metadata": {},
          "execution_count": 17
        }
      ]
    },
    {
      "cell_type": "code",
      "metadata": {
        "id": "QphCwMWECOLj",
        "colab": {
          "base_uri": "https://localhost:8080/"
        },
        "outputId": "4363ebb0-56ec-4ebe-ad07-2ea2de98fdc5"
      },
      "source": [
        "students[2] = 'Silvia'\n",
        "students"
      ],
      "execution_count": null,
      "outputs": [
        {
          "output_type": "execute_result",
          "data": {
            "text/plain": [
              "['Jonas', 'Charlotte', 'Silvia', 'Giulia']"
            ]
          },
          "metadata": {},
          "execution_count": 2
        }
      ]
    },
    {
      "cell_type": "markdown",
      "metadata": {
        "id": "YmxCuemzAVd7"
      },
      "source": [
        "#### **Quick Quiz**\n",
        "Given the list `students = ['Jonas', 'Charlotte', 'Sina', 'Giulia']`\n",
        "What is the index to select Giulia?"
      ]
    },
    {
      "cell_type": "code",
      "metadata": {
        "colab": {
          "base_uri": "https://localhost:8080/",
          "height": 35
        },
        "id": "bU5MfwGdA77a",
        "outputId": "5ccf5f44-822d-48fb-ff2f-9fa35463af1d"
      },
      "source": [
        "students[?]"
      ],
      "execution_count": null,
      "outputs": [
        {
          "output_type": "execute_result",
          "data": {
            "application/vnd.google.colaboratory.intrinsic+json": {
              "type": "string"
            },
            "text/plain": [
              "'Jonas'"
            ]
          },
          "metadata": {},
          "execution_count": 19
        }
      ]
    },
    {
      "cell_type": "markdown",
      "metadata": {
        "id": "6ddxFuo-GOt6"
      },
      "source": [
        "List concatenation with [+] operator"
      ]
    },
    {
      "cell_type": "code",
      "metadata": {
        "colab": {
          "base_uri": "https://localhost:8080/"
        },
        "id": "cOhIiNt6GTzf",
        "outputId": "2ea5e13e-e2fd-4f90-d577-ced1772cc737"
      },
      "source": [
        "otherStudents = ['Hanyu', 'Marie-Sophie']\n",
        "students + otherStudents"
      ],
      "execution_count": null,
      "outputs": [
        {
          "output_type": "execute_result",
          "data": {
            "text/plain": [
              "['Jonas', 'Charlotte', 'Sina', 'Giulia', 'Hanyu', 'Marie-Sophie']"
            ]
          },
          "metadata": {},
          "execution_count": 20
        }
      ]
    },
    {
      "cell_type": "markdown",
      "metadata": {
        "id": "uvBIZLiVGij3"
      },
      "source": [
        "Negative-indexing from the back of the list"
      ]
    },
    {
      "cell_type": "code",
      "metadata": {
        "id": "n4WMzh7jGWPW"
      },
      "source": [
        "students[-2]"
      ],
      "execution_count": null,
      "outputs": []
    },
    {
      "cell_type": "code",
      "metadata": {
        "colab": {
          "base_uri": "https://localhost:8080/"
        },
        "id": "tAR0VQdAGolH",
        "outputId": "d6d8b01e-e050-4839-9235-e77fce5bcbe2"
      },
      "source": [
        "students.pop()"
      ],
      "execution_count": null,
      "outputs": [
        {
          "output_type": "execute_result",
          "data": {
            "text/plain": [
              "['apple', 'orange']"
            ]
          },
          "metadata": {},
          "execution_count": 19
        }
      ]
    },
    {
      "cell_type": "code",
      "metadata": {
        "id": "agm7UfXdGziT"
      },
      "source": [
        "students"
      ],
      "execution_count": null,
      "outputs": []
    },
    {
      "cell_type": "code",
      "metadata": {
        "id": "sja3bavvG1QY"
      },
      "source": [
        "students.append('Eleonora')"
      ],
      "execution_count": null,
      "outputs": []
    },
    {
      "cell_type": "code",
      "metadata": {
        "id": "3casCFipG3o5"
      },
      "source": [
        "students"
      ],
      "execution_count": null,
      "outputs": []
    },
    {
      "cell_type": "code",
      "metadata": {
        "id": "X8HNsG9cG8ci"
      },
      "source": [
        "students[-1] = 'Matko'"
      ],
      "execution_count": null,
      "outputs": []
    },
    {
      "cell_type": "code",
      "metadata": {
        "id": "IZu-Kt-tG-9s"
      },
      "source": [
        "students"
      ],
      "execution_count": null,
      "outputs": []
    },
    {
      "cell_type": "markdown",
      "metadata": {
        "id": "fUFy9JYYHNa_"
      },
      "source": [
        " Index multiple adjacent elements using the **slice operator** (e.g., students[start:stop])"
      ]
    },
    {
      "cell_type": "code",
      "metadata": {
        "id": "6YhY9bnuHAyu"
      },
      "source": [
        "students[0:2]"
      ],
      "execution_count": null,
      "outputs": []
    },
    {
      "cell_type": "code",
      "metadata": {
        "id": "XrvYzAblHCkV"
      },
      "source": [
        "students[:3]"
      ],
      "execution_count": null,
      "outputs": []
    },
    {
      "cell_type": "code",
      "metadata": {
        "id": "yv_MjnikHFO-"
      },
      "source": [
        "#students[start:]\n",
        "students[2:]"
      ],
      "execution_count": null,
      "outputs": []
    },
    {
      "cell_type": "code",
      "metadata": {
        "id": "ehRiNkQvHG7m"
      },
      "source": [
        "len(students)"
      ],
      "execution_count": null,
      "outputs": []
    },
    {
      "cell_type": "markdown",
      "metadata": {
        "id": "ZV3VYmWmVJHi"
      },
      "source": [
        "List can be any datatype"
      ]
    },
    {
      "cell_type": "code",
      "metadata": {
        "id": "QGfw_IMaHqJ5"
      },
      "source": [
        "lstOfLsts = [['carrots', 'apples', 'oranges'], [1, 2, 3], ['one', 'two', 'three']]"
      ],
      "execution_count": null,
      "outputs": []
    },
    {
      "cell_type": "markdown",
      "metadata": {
        "id": "c56Tpdm5Ve37"
      },
      "source": [
        "You can access an element embedded in a list by first selecting the index of the list and then the index of the element in the selected list. In this case we are selecting the third element of the second list."
      ]
    },
    {
      "cell_type": "code",
      "metadata": {
        "id": "BfyrDxz_HwLi",
        "colab": {
          "base_uri": "https://localhost:8080/"
        },
        "outputId": "6b52eed9-c2a9-44a0-8089-6bdd6c0116fe"
      },
      "source": [
        "lstOfLsts[1][2]"
      ],
      "execution_count": null,
      "outputs": [
        {
          "output_type": "execute_result",
          "data": {
            "text/plain": [
              "3"
            ]
          },
          "metadata": {},
          "execution_count": 100
        }
      ]
    },
    {
      "cell_type": "code",
      "metadata": {
        "id": "NDs6TVe4HwYD"
      },
      "source": [
        "lstOfLsts[0].pop()"
      ],
      "execution_count": null,
      "outputs": []
    },
    {
      "cell_type": "code",
      "metadata": {
        "id": "mhRYYuoFH0y-"
      },
      "source": [
        "lstOfLsts"
      ],
      "execution_count": null,
      "outputs": []
    },
    {
      "cell_type": "code",
      "metadata": {
        "id": "EKjJgYE8H0-P"
      },
      "source": [
        "dir(list)"
      ],
      "execution_count": null,
      "outputs": []
    },
    {
      "cell_type": "code",
      "metadata": {
        "id": "4Et0ic8QIE96"
      },
      "source": [
        "help(list.reverse)"
      ],
      "execution_count": null,
      "outputs": []
    },
    {
      "cell_type": "code",
      "metadata": {
        "id": "RvrLoqrfIHMV"
      },
      "source": [
        "lst = ['a', 'b', 'c']"
      ],
      "execution_count": null,
      "outputs": []
    },
    {
      "cell_type": "code",
      "metadata": {
        "id": "VWX6DlQ2IJAZ"
      },
      "source": [
        "lst.reverse()"
      ],
      "execution_count": null,
      "outputs": []
    },
    {
      "cell_type": "markdown",
      "metadata": {
        "id": "1RtZEvbSLMPC"
      },
      "source": [
        "To check if an element is part of a list you can use the `in` keyword.\\\n",
        "Python has a set of keywords that are reserved words that cannot be used as variable names, function names, or any other identifiers:"
      ]
    },
    {
      "cell_type": "code",
      "metadata": {
        "colab": {
          "base_uri": "https://localhost:8080/"
        },
        "id": "EGGwyWjiLJYM",
        "outputId": "5fa9332e-6143-49c7-8f7c-7ac98af5c7c8"
      },
      "source": [
        "a in lst"
      ],
      "execution_count": null,
      "outputs": [
        {
          "output_type": "execute_result",
          "data": {
            "text/plain": [
              "False"
            ]
          },
          "metadata": {},
          "execution_count": 54
        }
      ]
    },
    {
      "cell_type": "code",
      "metadata": {
        "colab": {
          "base_uri": "https://localhost:8080/"
        },
        "id": "EbLQ8nnxK8eu",
        "outputId": "1d66e5d6-e8cc-4b66-9b6e-e70a94242e7d"
      },
      "source": [
        "'a' in lst"
      ],
      "execution_count": null,
      "outputs": [
        {
          "output_type": "execute_result",
          "data": {
            "text/plain": [
              "True"
            ]
          },
          "metadata": {},
          "execution_count": 53
        }
      ]
    },
    {
      "cell_type": "code",
      "metadata": {
        "id": "0M37C8RiKvM6"
      },
      "source": [
        "my_super_string = 'all I want is pizza'"
      ],
      "execution_count": null,
      "outputs": []
    },
    {
      "cell_type": "code",
      "metadata": {
        "colab": {
          "base_uri": "https://localhost:8080/"
        },
        "id": "43QLhT53KwhC",
        "outputId": "b6b7ffdd-6509-4a6c-bc4d-c50f6d98db60"
      },
      "source": [
        "print('pizza' in my_super_string)"
      ],
      "execution_count": null,
      "outputs": [
        {
          "output_type": "stream",
          "name": "stdout",
          "text": [
            "True\n"
          ]
        }
      ]
    },
    {
      "cell_type": "markdown",
      "metadata": {
        "id": "UyOZZPKnBcdt"
      },
      "source": [
        "#### **Quick Quiz**\n",
        "\n",
        "What is the output of the print() function call?\n",
        "```\n",
        "s = 'foo'\n",
        "t = 'bar'\n",
        "print('barf' in 2 * (s + t))\n",
        "```\n",
        "\n"
      ]
    },
    {
      "cell_type": "markdown",
      "metadata": {
        "id": "YSsZg-cMF1ys"
      },
      "source": [
        "Specifying **strides** while slicing strings. "
      ]
    },
    {
      "cell_type": "code",
      "metadata": {
        "id": "y9dArrokF_8M"
      },
      "source": [
        "my_passion = 'I like bikes, I like every kind of bike'"
      ],
      "execution_count": null,
      "outputs": []
    },
    {
      "cell_type": "code",
      "metadata": {
        "colab": {
          "base_uri": "https://localhost:8080/"
        },
        "id": "US7r4yYoGb3c",
        "outputId": "fd05e51c-d685-44b7-9262-7d5c04b31a84"
      },
      "source": [
        "print(my_string[13:])"
      ],
      "execution_count": null,
      "outputs": [
        {
          "output_type": "stream",
          "name": "stdout",
          "text": [
            " I like every kind of bike\n"
          ]
        }
      ]
    },
    {
      "cell_type": "code",
      "metadata": {
        "colab": {
          "base_uri": "https://localhost:8080/"
        },
        "id": "6ro4sGocGloN",
        "outputId": "3adc612c-bf26-47dd-82e2-8cc0561a15d4"
      },
      "source": [
        "print(my_passion[0:25:3])"
      ],
      "execution_count": null,
      "outputs": [
        {
          "output_type": "stream",
          "name": "stdout",
          "text": [
            "Ii k, ker\n"
          ]
        }
      ]
    },
    {
      "cell_type": "markdown",
      "metadata": {
        "id": "-2008UQ6IB4u"
      },
      "source": [
        "Specifying the stride of 3 as the last parameter in the Python syntax my_passion[0:25:3] prints only every three character."
      ]
    },
    {
      "cell_type": "markdown",
      "metadata": {
        "id": "QFPAy47kEiFg"
      },
      "source": [
        "#### **Quick Quiz**\n",
        "**Each character in a string has an index**.\\\n",
        "For the string Arnaud Rocks! the index breakdown is as follows:\n",
        "```\n",
        "Arnaud Rocks !\n",
        "0123456789101112\n",
        "```\n",
        "What is the slice expression that gives every third character of string `Arnaud Rocks!`, starting with the last character and proceeding backward to the first?"
      ]
    },
    {
      "cell_type": "markdown",
      "metadata": {
        "id": "NcGIUOukILKf"
      },
      "source": [
        "### **Tuples**\n",
        "Tuples are like a lists except that they are immutable once they are created (i.e. you cannot change its content once created)"
      ]
    },
    {
      "cell_type": "code",
      "metadata": {
        "id": "dVb2R3eXINUk"
      },
      "source": [
        "pair = (3, 5)"
      ],
      "execution_count": null,
      "outputs": []
    },
    {
      "cell_type": "code",
      "metadata": {
        "id": "EjNyVc_iIigM"
      },
      "source": [
        "pair[0]"
      ],
      "execution_count": null,
      "outputs": []
    },
    {
      "cell_type": "code",
      "metadata": {
        "id": "gEDZ1sKAIqLy"
      },
      "source": [
        " x, y = pair"
      ],
      "execution_count": null,
      "outputs": []
    },
    {
      "cell_type": "code",
      "metadata": {
        "id": "FuIXeJodIqtN"
      },
      "source": [
        "x"
      ],
      "execution_count": null,
      "outputs": []
    },
    {
      "cell_type": "code",
      "metadata": {
        "id": "BCtmYVIQIq1r"
      },
      "source": [
        "y"
      ],
      "execution_count": null,
      "outputs": []
    },
    {
      "cell_type": "code",
      "metadata": {
        "id": "t1vycaGfItOH"
      },
      "source": [
        "pair[1] = 6"
      ],
      "execution_count": null,
      "outputs": []
    },
    {
      "cell_type": "markdown",
      "metadata": {
        "id": "_c_LW04pI1TU"
      },
      "source": [
        "The attempt to modify an immutable structure raised an exception. Exceptions indicate errors: index out of bounds errors, type errors, and so on will all report exceptions in this way."
      ]
    },
    {
      "cell_type": "markdown",
      "metadata": {
        "id": "NbNjP-JcI5Vw"
      },
      "source": [
        "### **Sets**\n",
        "Sets are unordered lists with no duplicate items."
      ]
    },
    {
      "cell_type": "code",
      "metadata": {
        "id": "r2Zsn4k9JKiT"
      },
      "source": [
        " shapes = ['circle', 'square', 'triangle', 'circle']"
      ],
      "execution_count": null,
      "outputs": []
    },
    {
      "cell_type": "code",
      "metadata": {
        "id": "tH0n6v6OJMD4"
      },
      "source": [
        "setOfShapes = set(shapes)"
      ],
      "execution_count": null,
      "outputs": []
    },
    {
      "cell_type": "code",
      "metadata": {
        "colab": {
          "base_uri": "https://localhost:8080/"
        },
        "id": "HPypZbVqJOKd",
        "outputId": "684a66a6-c109-44e6-827e-efe75552d71a"
      },
      "source": [
        "setOfShapes"
      ],
      "execution_count": null,
      "outputs": [
        {
          "output_type": "execute_result",
          "data": {
            "text/plain": [
              "{'circle', 'square', 'triangle'}"
            ]
          },
          "metadata": {},
          "execution_count": 11
        }
      ]
    },
    {
      "cell_type": "code",
      "metadata": {
        "id": "mnJd80srJYjL"
      },
      "source": [
        "setOfShapes.add('polygon')"
      ],
      "execution_count": null,
      "outputs": []
    },
    {
      "cell_type": "code",
      "metadata": {
        "colab": {
          "base_uri": "https://localhost:8080/"
        },
        "id": "LOCnAYGkJafx",
        "outputId": "35238c1b-7467-4723-df97-8101207d5900"
      },
      "source": [
        "setOfShapes"
      ],
      "execution_count": null,
      "outputs": [
        {
          "output_type": "execute_result",
          "data": {
            "text/plain": [
              "{'circle', 'polygon', 'square', 'triangle'}"
            ]
          },
          "metadata": {},
          "execution_count": 13
        }
      ]
    },
    {
      "cell_type": "code",
      "metadata": {
        "colab": {
          "base_uri": "https://localhost:8080/"
        },
        "id": "IbOatRocJdud",
        "outputId": "c51bbca8-84f2-4045-85d4-a3bd30a64d43"
      },
      "source": [
        "'circle' in setOfShapes"
      ],
      "execution_count": null,
      "outputs": [
        {
          "output_type": "execute_result",
          "data": {
            "text/plain": [
              "True"
            ]
          },
          "metadata": {},
          "execution_count": 14
        }
      ]
    },
    {
      "cell_type": "markdown",
      "metadata": {
        "id": "5ZVK1sN_JoWz"
      },
      "source": [
        "### **Dictionaries**\n",
        "Dictionaries store a map from one type of object (the key) to another (the value). The key must be an immutable type (string, number, or tuple). The value can be any Python data type. For instance, a dictionary can contain an address book and you access each contact by specifying its name."
      ]
    },
    {
      "cell_type": "code",
      "metadata": {
        "id": "Dl9Nv_O5Kerx",
        "colab": {
          "base_uri": "https://localhost:8080/"
        },
        "outputId": "e409afc0-fd99-40f0-99c5-daf88b28f898"
      },
      "source": [
        "my_dic = {}\n",
        "my_dic[\"first_name\"] = \"Arnaud\"\n",
        "my_dic[\"surname\"] = \"Weiss\"\n",
        "my_dic[\"work\"] = \"President\"\n",
        "my_dic"
      ],
      "execution_count": null,
      "outputs": [
        {
          "output_type": "execute_result",
          "data": {
            "text/plain": [
              "{'first_name': 'Arnaud', 'surname': 'Weiss', 'work': 'President'}"
            ]
          },
          "metadata": {},
          "execution_count": 88
        }
      ]
    },
    {
      "cell_type": "markdown",
      "metadata": {
        "id": "HB5OlVhbTtsY"
      },
      "source": [
        "You can access a value using its key"
      ]
    },
    {
      "cell_type": "code",
      "metadata": {
        "id": "jfYYV_tPKgTi",
        "colab": {
          "base_uri": "https://localhost:8080/",
          "height": 35
        },
        "outputId": "c7acb0d7-d498-4714-cc41-63d68ac6c01a"
      },
      "source": [
        "my_dic['first_name']"
      ],
      "execution_count": null,
      "outputs": [
        {
          "output_type": "execute_result",
          "data": {
            "application/vnd.google.colaboratory.intrinsic+json": {
              "type": "string"
            },
            "text/plain": [
              "'Arnaud'"
            ]
          },
          "metadata": {},
          "execution_count": 85
        }
      ]
    },
    {
      "cell_type": "markdown",
      "metadata": {
        "id": "yrjw4dyDTzP0"
      },
      "source": [
        "It is possible to re-assign a value associated with a key"
      ]
    },
    {
      "cell_type": "code",
      "metadata": {
        "id": "-p1AEHCOKiIL"
      },
      "source": [
        "my_dic['work'] = 'Professor'\n",
        "my_dic"
      ],
      "execution_count": null,
      "outputs": []
    },
    {
      "cell_type": "markdown",
      "metadata": {
        "id": "JhVbSuwvT8tK"
      },
      "source": [
        "You can use `del` to delete an element of the dictionary (key and value)"
      ]
    },
    {
      "cell_type": "code",
      "metadata": {
        "id": "Alf1GrfxKm6l"
      },
      "source": [
        "del my_dic['first_name']\n",
        "my_dic"
      ],
      "execution_count": null,
      "outputs": []
    },
    {
      "cell_type": "markdown",
      "metadata": {
        "id": "JVCNgrLFUOii"
      },
      "source": [
        "It is also possible to assign a list of value to a key"
      ]
    },
    {
      "cell_type": "code",
      "metadata": {
        "id": "Ta57SUh6KqiD"
      },
      "source": [
        "my_dic['work'] = ['Professor', 'President']\n",
        "my_dic"
      ],
      "execution_count": null,
      "outputs": []
    },
    {
      "cell_type": "markdown",
      "metadata": {
        "id": "d1kerNQSUbbM"
      },
      "source": [
        "Access the list of keys"
      ]
    },
    {
      "cell_type": "code",
      "metadata": {
        "id": "MkuWAiOrKt1P",
        "colab": {
          "base_uri": "https://localhost:8080/"
        },
        "outputId": "1f717057-14c1-4c32-b2ae-073e15233381"
      },
      "source": [
        "my_dic.keys()"
      ],
      "execution_count": null,
      "outputs": [
        {
          "output_type": "execute_result",
          "data": {
            "text/plain": [
              "dict_keys(['surname', 'work'])"
            ]
          },
          "metadata": {},
          "execution_count": 94
        }
      ]
    },
    {
      "cell_type": "markdown",
      "metadata": {
        "id": "GYo__37UUenj"
      },
      "source": [
        "Access the list of values"
      ]
    },
    {
      "cell_type": "code",
      "metadata": {
        "id": "dpXiEfuiKv8z",
        "colab": {
          "base_uri": "https://localhost:8080/"
        },
        "outputId": "2daaa846-c9f2-4574-e757-7ca6cd577436"
      },
      "source": [
        "my_dic.values()"
      ],
      "execution_count": null,
      "outputs": [
        {
          "output_type": "execute_result",
          "data": {
            "text/plain": [
              "dict_values(['Weiss', ['Professor', 'President']])"
            ]
          },
          "metadata": {},
          "execution_count": 95
        }
      ]
    },
    {
      "cell_type": "markdown",
      "metadata": {
        "id": "F0SK3U1HUnwR"
      },
      "source": [
        "Access a view object that displays a list of a given dictionary's (key, value) tuple pair"
      ]
    },
    {
      "cell_type": "code",
      "metadata": {
        "id": "mDrDcHZFKxzn",
        "colab": {
          "base_uri": "https://localhost:8080/"
        },
        "outputId": "bf467933-5557-4deb-dddf-5590611367aa"
      },
      "source": [
        "my_dic.items()"
      ],
      "execution_count": null,
      "outputs": [
        {
          "output_type": "execute_result",
          "data": {
            "text/plain": [
              "dict_items([('surname', 'Weiss'), ('work', ['Professor', 'President'])])"
            ]
          },
          "metadata": {},
          "execution_count": 96
        }
      ]
    },
    {
      "cell_type": "markdown",
      "metadata": {
        "id": "y6Dg17L7U48a"
      },
      "source": [
        "Check the length of the dictionary"
      ]
    },
    {
      "cell_type": "code",
      "metadata": {
        "id": "gtW2JayuKzdX",
        "colab": {
          "base_uri": "https://localhost:8080/"
        },
        "outputId": "e5a4c25f-8cce-44ca-9416-0e9a908100e8"
      },
      "source": [
        "len(my_dic)"
      ],
      "execution_count": null,
      "outputs": [
        {
          "output_type": "execute_result",
          "data": {
            "text/plain": [
              "2"
            ]
          },
          "metadata": {},
          "execution_count": 97
        }
      ]
    },
    {
      "cell_type": "code",
      "metadata": {
        "colab": {
          "base_uri": "https://localhost:8080/",
          "height": 163
        },
        "id": "UktLPluxPxc7",
        "outputId": "2905a814-41c5-4ae3-c165-28247e882653"
      },
      "source": [
        "my_dic['arnaud']"
      ],
      "execution_count": null,
      "outputs": [
        {
          "output_type": "error",
          "ename": "KeyError",
          "evalue": "ignored",
          "traceback": [
            "\u001b[0;31m---------------------------------------------------------------------------\u001b[0m",
            "\u001b[0;31mKeyError\u001b[0m                                  Traceback (most recent call last)",
            "\u001b[0;32m<ipython-input-98-77fcea0edc99>\u001b[0m in \u001b[0;36m<module>\u001b[0;34m()\u001b[0m\n\u001b[0;32m----> 1\u001b[0;31m \u001b[0mmy_dic\u001b[0m\u001b[0;34m[\u001b[0m\u001b[0;34m'arnaud'\u001b[0m\u001b[0;34m]\u001b[0m\u001b[0;34m\u001b[0m\u001b[0;34m\u001b[0m\u001b[0m\n\u001b[0m",
            "\u001b[0;31mKeyError\u001b[0m: 'arnaud'"
          ]
        }
      ]
    },
    {
      "cell_type": "markdown",
      "metadata": {
        "id": "_NlJZBHzR6so"
      },
      "source": [
        "If the key does not exist in the dictionary, a KeyError exception will be thrown.\n",
        "Dictionaries can contain other objects. These objects are placed and accessed through keys. A dictionary can not naturally contain two identical keys. On the other hand, nothing prevents to have two identical values in the dictionary.\n",
        "Be careful, however, a dictionary does not have an ordered structure. If we delete a key, the dictionary, unlike lists, will not shift all index keys above the deleted index."
      ]
    },
    {
      "cell_type": "markdown",
      "metadata": {
        "id": "mZ3tvfgrLEsE"
      },
      "source": [
        "## **Writing Scripts**"
      ]
    },
    {
      "cell_type": "markdown",
      "metadata": {
        "id": "wulvEEjKLhP8"
      },
      "source": [
        "###**Control Structures** and **Loops**"
      ]
    },
    {
      "cell_type": "code",
      "metadata": {
        "colab": {
          "base_uri": "https://localhost:8080/"
        },
        "id": "h2TS5JqSLHpd",
        "outputId": "15c93a35-aa91-4326-a728-a5ae2b19e7a0"
      },
      "source": [
        "# This is what a comment looks like\n",
        "students = ['Jonas', 'Charlotte', 'Sina', 'Giulia']\n",
        "# for statement\n",
        "for student in students:\n",
        "    print(student + ' has a passion!')\n",
        "\n",
        "studentsPassions = {'Jonas': 'playing guitar', 'Charlotte': 'climbing', 'Sina': 'biking', 'Giulia': 'surfing'}\n",
        "for student, passion in studentsPassions.items():\n",
        "    # if statement\n",
        "    if passion == 'biking':\n",
        "        print('I like ' + passion + ' more')\n",
        "    else:\n",
        "        print(passion + ' is cool!')"
      ],
      "execution_count": null,
      "outputs": [
        {
          "output_type": "stream",
          "name": "stdout",
          "text": [
            "Jonas has a passion!\n",
            "Charlotte has a passion!\n",
            "Sina has a passion!\n",
            "Giulia has a passion!\n",
            "playing guitar is cool!\n",
            "climbing is cool!\n",
            "I like biking more\n",
            "surfing is cool!\n"
          ]
        }
      ]
    },
    {
      "cell_type": "markdown",
      "metadata": {
        "id": "v-xUU94QMXF-"
      },
      "source": [
        "#### If Statement \n",
        "find more on: https://docs.python.org/3.6/tutorial/controlflow.html#if-statements"
      ]
    },
    {
      "cell_type": "code",
      "metadata": {
        "colab": {
          "base_uri": "https://localhost:8080/"
        },
        "id": "v9B2vlHwL7vH",
        "outputId": "4e0e0d17-e44b-42d9-c90a-ba829d7bdc54"
      },
      "source": [
        "x = int(input(\"Please enter an integer: \"))"
      ],
      "execution_count": null,
      "outputs": [
        {
          "name": "stdout",
          "output_type": "stream",
          "text": [
            "Please enter an integer: 32\n"
          ]
        }
      ]
    },
    {
      "cell_type": "code",
      "metadata": {
        "colab": {
          "base_uri": "https://localhost:8080/"
        },
        "id": "enQa7xwoMBEa",
        "outputId": "971f702a-46b3-4a73-a3fd-c00731522564"
      },
      "source": [
        "if x < 0:\n",
        "  x = 0\n",
        "  print('Negative changed to zero')\n",
        "elif x == 0:\n",
        "  print('Zero')\n",
        "elif x == 1:\n",
        "  print('Single')\n",
        "else:\n",
        "  print('More')"
      ],
      "execution_count": null,
      "outputs": [
        {
          "output_type": "stream",
          "name": "stdout",
          "text": [
            "More\n"
          ]
        }
      ]
    },
    {
      "cell_type": "code",
      "metadata": {
        "colab": {
          "base_uri": "https://localhost:8080/"
        },
        "id": "AGZu8366TVa0",
        "outputId": "f0584a8b-d4b2-40ce-a097-a24149c8927e"
      },
      "source": [
        "var1 = 6\n",
        "var2 = 3\n",
        "\n",
        "if var1 > var2:\n",
        "  print(\"This is also True\")\n",
        "else:\n",
        "  print(\"That was False!\")"
      ],
      "execution_count": null,
      "outputs": [
        {
          "output_type": "stream",
          "name": "stdout",
          "text": [
            "This is also True\n"
          ]
        }
      ]
    },
    {
      "cell_type": "code",
      "metadata": {
        "colab": {
          "base_uri": "https://localhost:8080/"
        },
        "id": "rZaD0N4nTY09",
        "outputId": "ceae27d5-af45-4b33-d739-02ce6c16d675"
      },
      "source": [
        "value = input('Type a number ')"
      ],
      "execution_count": null,
      "outputs": [
        {
          "name": "stdout",
          "output_type": "stream",
          "text": [
            "Type a number 23\n"
          ]
        }
      ]
    },
    {
      "cell_type": "code",
      "metadata": {
        "colab": {
          "base_uri": "https://localhost:8080/"
        },
        "id": "737kQ9IUTcyN",
        "outputId": "01dbaf59-75f2-4872-fd1b-9db3cdf86832"
      },
      "source": [
        "print(value)\n",
        "print(type(value))"
      ],
      "execution_count": null,
      "outputs": [
        {
          "output_type": "stream",
          "name": "stdout",
          "text": [
            "23\n",
            "<class 'str'>\n"
          ]
        }
      ]
    },
    {
      "cell_type": "code",
      "metadata": {
        "id": "NjSzyoMNTiyU",
        "colab": {
          "base_uri": "https://localhost:8080/"
        },
        "outputId": "0889a937-9ea5-46d7-8d8b-d22ddf43d354"
      },
      "source": [
        "value = input(\"Type a number \")\n",
        "value = int(value)\n",
        "\n",
        "if value < 10:\n",
        "  print(\"The value is smaller than 10!\")\n",
        "elif 10 <= value <= 20:\n",
        "  print(\"The value is larger than 10 but smaller than 20.\")\n",
        "else:\n",
        "    print(\"The value is larger than 20.\")"
      ],
      "execution_count": null,
      "outputs": [
        {
          "output_type": "stream",
          "name": "stdout",
          "text": [
            "Type a number 32\n",
            "The value is larger than 20.\n"
          ]
        }
      ]
    },
    {
      "cell_type": "markdown",
      "metadata": {
        "id": "TV6JKeBBMbGW"
      },
      "source": [
        "#### **For Statement**"
      ]
    },
    {
      "cell_type": "code",
      "metadata": {
        "id": "HxHdNmBgMCsW"
      },
      "source": [
        "words = ['cat', 'window', 'defenestrate']"
      ],
      "execution_count": null,
      "outputs": []
    },
    {
      "cell_type": "code",
      "metadata": {
        "colab": {
          "base_uri": "https://localhost:8080/"
        },
        "id": "jQ1xQnuGMewa",
        "outputId": "9a5536dc-7b26-4da9-b723-e75403b97559"
      },
      "source": [
        "for w in words:\n",
        "  print(w, len(w))"
      ],
      "execution_count": null,
      "outputs": [
        {
          "output_type": "stream",
          "name": "stdout",
          "text": [
            "cat 3\n",
            "window 6\n",
            "defenestrate 12\n"
          ]
        }
      ]
    },
    {
      "cell_type": "code",
      "metadata": {
        "id": "UszgQUOAMlFW"
      },
      "source": [
        "for w in words[:]:  # Loop over a slice copy of the entire list.\n",
        "  if len(w) > 6:\n",
        "    words.insert(0, w)"
      ],
      "execution_count": null,
      "outputs": []
    },
    {
      "cell_type": "code",
      "metadata": {
        "colab": {
          "base_uri": "https://localhost:8080/"
        },
        "id": "SlNPQWk4MrOh",
        "outputId": "b563c09b-9c15-41f2-8259-5333e25d278a"
      },
      "source": [
        "words"
      ],
      "execution_count": null,
      "outputs": [
        {
          "output_type": "execute_result",
          "data": {
            "text/plain": [
              "['defenestrate', 'cat', 'window', 'defenestrate']"
            ]
          },
          "metadata": {},
          "execution_count": 35
        }
      ]
    },
    {
      "cell_type": "code",
      "metadata": {
        "id": "I00qrLMoS4re"
      },
      "source": [
        "for k in range(10, 15):\n",
        "    print(k)"
      ],
      "execution_count": null,
      "outputs": []
    },
    {
      "cell_type": "markdown",
      "metadata": {
        "id": "yDKjflQYM1j4"
      },
      "source": [
        "Map and filter"
      ]
    },
    {
      "cell_type": "code",
      "metadata": {
        "id": "iqeVQDP5NCwg"
      },
      "source": [
        "list(map(lambda x: x * x, [1, 2, 3]))"
      ],
      "execution_count": null,
      "outputs": []
    },
    {
      "cell_type": "code",
      "metadata": {
        "id": "6E8qDFJANEho"
      },
      "source": [
        "list(filter(lambda x: x > 3, [1, 2, 3, 4, 5, 4, 3, 2, 1]))"
      ],
      "execution_count": null,
      "outputs": []
    },
    {
      "cell_type": "markdown",
      "metadata": {
        "id": "00CWhW4PNL_w"
      },
      "source": [
        " List comprehension construction"
      ]
    },
    {
      "cell_type": "code",
      "metadata": {
        "id": "WxIOStbQNNUr"
      },
      "source": [
        "nums = [1, 2, 3, 4, 5, 6]\n",
        "plusOneNums = [x + 1 for x in nums]\n",
        "oddNums = [x for x in nums if x % 2 == 1]\n",
        "print(oddNums)\n",
        "oddNumsPlusOne = [x + 1 for x in nums if x % 2 == 1]\n",
        "print(oddNumsPlusOne)"
      ],
      "execution_count": null,
      "outputs": []
    }
  ]
}